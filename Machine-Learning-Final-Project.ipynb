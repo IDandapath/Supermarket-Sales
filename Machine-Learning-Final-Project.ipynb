{
 "cells": [
  {
   "cell_type": "markdown",
   "metadata": {},
   "source": [
    "# CAP5610 Final Project"
   ]
  },
  {
   "cell_type": "markdown",
   "metadata": {},
   "source": [
    "## Super Market Sales Data Prediction"
   ]
  },
  {
   "cell_type": "markdown",
   "metadata": {},
   "source": [
    "<u> <font color =\"purple\"><h3> Preliminary Project Statement:</h3></font></u> <br>\n",
    "The purpose of the project is to predict the supermarket sales across the cities. The project will also involve the overall predictive analysis of the sales volume, profit and market layout.\n",
    "This will enable us to gage the future sustainability of the supermarket based on its sales."
   ]
  },
  {
   "cell_type": "markdown",
   "metadata": {},
   "source": [
    "<u> <font color =\"purple\"><h3> About the Data:</h3></font></u>"
   ]
  },
  {
   "cell_type": "markdown",
   "metadata": {},
   "source": [
    "We are using supermarket sales dataset from Kaggle. <br>\n",
    "The source of data: https://www.kaggle.com/aungpyaeap/supermarket-sales <br>\n",
    "The dataset is one of the historical sales of supermarket company in mynmar which has records of its 3 different branches for 3 months data. <br>\n",
    "This dataset consists of 17 attributes and 1000 records.\n",
    "Please find below information onthe attributes covered in this data set:\n",
    "\n",
    "* Invoice id: Computer generated sales slip invoice identification number\n",
    "* Branch: Branch of supercenter (3 branches are available identified by A, B and C).\n",
    "* City: Location of supercenters\n",
    "* Customer type: Type of customers, recorded by Members for customers using member card and Normal for without member card.\n",
    "* Gender: Gender type of customer\n",
    "* Product line: General item categorization groups - Electronic accessories, Fashion accessories, Food and beverages, Health and beauty, Home and lifestyle, Sports and travel\n",
    "* Unit price: Price of each product in dollars\n",
    "* Quantity: Number of products purchased by customer\n",
    "* Tax: 5% tax fee for customer buying\n",
    "* Total: Total price including tax\n",
    "* Date: Date of purchase (Record available from January 2019 to March 2019)\n",
    "* Time: Purchase time (10am to 9pm)\n",
    "* Payment: Payment used by customer for purchase (3 methods are available – Cash, Credit card and Ewallet)\n",
    "* COGS: Cost of goods sold\n",
    "* Gross margin percentage: Gross margin percentage\n",
    "* Gross income: Gross income\n",
    "* Rating: Customer stratification rating on their overall shopping experience (On a scale of 1 to 10)"
   ]
  },
  {
   "cell_type": "markdown",
   "metadata": {},
   "source": [
    "<u> <font color =\"purple\"><h3> Exploratory Data Analysis:</h3></font></u>"
   ]
  },
  {
   "cell_type": "code",
   "execution_count": 3,
   "metadata": {},
   "outputs": [
    {
     "name": "stderr",
     "output_type": "stream",
     "text": [
      "C:\\PythonLearn\\Anaconda\\lib\\site-packages\\patsy\\constraint.py:13: DeprecationWarning: Using or importing the ABCs from 'collections' instead of from 'collections.abc' is deprecated since Python 3.3, and in 3.9 it will stop working\n",
      "  from collections import Mapping\n"
     ]
    }
   ],
   "source": [
    "#Importing required libraries & packages\n",
    "import pandas as pd\n",
    "import numpy as np\n",
    "from pandas import read_csv\n",
    "import pandas as pd\n",
    "import numpy as np\n",
    "from mlxtend.frequent_patterns import apriori\n",
    "from mlxtend.frequent_patterns import association_rules\n",
    "from mlxtend.preprocessing import TransactionEncoder\n",
    "from random import seed\n",
    "from random import randrange\n",
    "import matplotlib.pyplot as plt\n",
    "import seaborn as sns\n",
    "from sklearn.preprocessing import LabelEncoder\n",
    "import warnings\n",
    "from sklearn.cluster import KMeans\n",
    "from sklearn.metrics import accuracy_score\n",
    "from sklearn.linear_model import LinearRegression\n",
    "from sklearn.linear_model import LogisticRegression\n",
    "from sklearn.model_selection import KFold\n",
    "from sklearn.model_selection import cross_val_score\n",
    "from sklearn.metrics import r2_score\n",
    "from sklearn.metrics import mean_squared_error\n",
    "from sklearn.metrics import accuracy_score\n",
    "from sklearn.neighbors import KNeighborsClassifier\n",
    "from sklearn.model_selection import train_test_split\n",
    "from sklearn.ensemble import RandomForestRegressor\n",
    "from sklearn.ensemble import GradientBoostingRegressor\n",
    "from statsmodels.tsa.stattools import adfuller\n",
    "from statsmodels.tsa.arima_model import ARIMA\n",
    "from math import sqrt\n",
    "from sklearn.svm import SVR\n",
    "from sklearn.preprocessing import StandardScaler\n",
    "from sklearn.feature_selection import SelectKBest\n",
    "from sklearn.feature_selection import f_classif\n",
    "warnings.filterwarnings('ignore')"
   ]
  },
  {
   "cell_type": "code",
   "execution_count": 2,
   "metadata": {},
   "outputs": [
    {
     "name": "stdout",
     "output_type": "stream",
     "text": [
      "Collecting mlxtend\n",
      "  Downloading mlxtend-0.23.1-py3-none-any.whl (1.4 MB)\n",
      "Requirement already satisfied: numpy>=1.16.2 in c:\\pythonlearn\\anaconda\\lib\\site-packages (from mlxtend) (1.19.2)\n",
      "Requirement already satisfied: pandas>=0.24.2 in c:\\pythonlearn\\anaconda\\lib\\site-packages (from mlxtend) (1.1.3)\n",
      "Requirement already satisfied: scikit-learn>=1.0.2 in c:\\pythonlearn\\anaconda\\lib\\site-packages (from mlxtend) (1.1.1)\n",
      "Requirement already satisfied: scipy>=1.2.1 in c:\\pythonlearn\\anaconda\\lib\\site-packages (from mlxtend) (1.5.2)\n",
      "Requirement already satisfied: matplotlib>=3.0.0 in c:\\pythonlearn\\anaconda\\lib\\site-packages (from mlxtend) (3.3.2)\n",
      "Requirement already satisfied: joblib>=0.13.2 in c:\\pythonlearn\\anaconda\\lib\\site-packages (from mlxtend) (0.17.0)\n",
      "Requirement already satisfied: python-dateutil>=2.7.3 in c:\\pythonlearn\\anaconda\\lib\\site-packages (from pandas>=0.24.2->mlxtend) (2.8.1)\n",
      "Requirement already satisfied: pytz>=2017.2 in c:\\pythonlearn\\anaconda\\lib\\site-packages (from pandas>=0.24.2->mlxtend) (2020.1)\n",
      "Requirement already satisfied: threadpoolctl>=2.0.0 in c:\\pythonlearn\\anaconda\\lib\\site-packages (from scikit-learn>=1.0.2->mlxtend) (2.1.0)\n",
      "Requirement already satisfied: pillow>=6.2.0 in c:\\pythonlearn\\anaconda\\lib\\site-packages (from matplotlib>=3.0.0->mlxtend) (8.0.1)\n",
      "Requirement already satisfied: certifi>=2020.06.20 in c:\\pythonlearn\\anaconda\\lib\\site-packages (from matplotlib>=3.0.0->mlxtend) (2020.6.20)\n",
      "Requirement already satisfied: cycler>=0.10 in c:\\pythonlearn\\anaconda\\lib\\site-packages (from matplotlib>=3.0.0->mlxtend) (0.10.0)\n",
      "Requirement already satisfied: kiwisolver>=1.0.1 in c:\\pythonlearn\\anaconda\\lib\\site-packages (from matplotlib>=3.0.0->mlxtend) (1.3.0)\n",
      "Requirement already satisfied: pyparsing!=2.0.4,!=2.1.2,!=2.1.6,>=2.0.3 in c:\\pythonlearn\\anaconda\\lib\\site-packages (from matplotlib>=3.0.0->mlxtend) (2.4.7)\n",
      "Requirement already satisfied: six>=1.5 in c:\\pythonlearn\\anaconda\\lib\\site-packages (from python-dateutil>=2.7.3->pandas>=0.24.2->mlxtend) (1.15.0)\n",
      "Installing collected packages: mlxtend\n",
      "Successfully installed mlxtend-0.23.1\n",
      "Note: you may need to restart the kernel to use updated packages.\n"
     ]
    }
   ],
   "source": [
    "#pip install mlxtend"
   ]
  },
  {
   "cell_type": "code",
   "execution_count": 7,
   "metadata": {
    "scrolled": true
   },
   "outputs": [
    {
     "data": {
      "text/html": [
       "<div>\n",
       "<style scoped>\n",
       "    .dataframe tbody tr th:only-of-type {\n",
       "        vertical-align: middle;\n",
       "    }\n",
       "\n",
       "    .dataframe tbody tr th {\n",
       "        vertical-align: top;\n",
       "    }\n",
       "\n",
       "    .dataframe thead th {\n",
       "        text-align: right;\n",
       "    }\n",
       "</style>\n",
       "<table border=\"1\" class=\"dataframe\">\n",
       "  <thead>\n",
       "    <tr style=\"text-align: right;\">\n",
       "      <th></th>\n",
       "      <th>Invoice ID</th>\n",
       "      <th>Branch</th>\n",
       "      <th>City</th>\n",
       "      <th>Customer type</th>\n",
       "      <th>Gender</th>\n",
       "      <th>Product line</th>\n",
       "      <th>Unit price</th>\n",
       "      <th>Quantity</th>\n",
       "      <th>Tax 5%</th>\n",
       "      <th>Total</th>\n",
       "      <th>Date</th>\n",
       "      <th>Time</th>\n",
       "      <th>Payment</th>\n",
       "      <th>cogs</th>\n",
       "      <th>gross margin percentage</th>\n",
       "      <th>gross income</th>\n",
       "      <th>Rating</th>\n",
       "    </tr>\n",
       "  </thead>\n",
       "  <tbody>\n",
       "    <tr>\n",
       "      <th>0</th>\n",
       "      <td>750-67-8428</td>\n",
       "      <td>A</td>\n",
       "      <td>Yangon</td>\n",
       "      <td>Member</td>\n",
       "      <td>Female</td>\n",
       "      <td>Health and beauty</td>\n",
       "      <td>74.69</td>\n",
       "      <td>7</td>\n",
       "      <td>26.1415</td>\n",
       "      <td>548.9715</td>\n",
       "      <td>1/5/2019</td>\n",
       "      <td>13:08</td>\n",
       "      <td>Ewallet</td>\n",
       "      <td>522.83</td>\n",
       "      <td>4.761905</td>\n",
       "      <td>26.1415</td>\n",
       "      <td>9.1</td>\n",
       "    </tr>\n",
       "    <tr>\n",
       "      <th>1</th>\n",
       "      <td>226-31-3081</td>\n",
       "      <td>C</td>\n",
       "      <td>Naypyitaw</td>\n",
       "      <td>Normal</td>\n",
       "      <td>Female</td>\n",
       "      <td>Electronic accessories</td>\n",
       "      <td>15.28</td>\n",
       "      <td>5</td>\n",
       "      <td>3.8200</td>\n",
       "      <td>80.2200</td>\n",
       "      <td>3/8/2019</td>\n",
       "      <td>10:29</td>\n",
       "      <td>Cash</td>\n",
       "      <td>76.40</td>\n",
       "      <td>4.761905</td>\n",
       "      <td>3.8200</td>\n",
       "      <td>9.6</td>\n",
       "    </tr>\n",
       "    <tr>\n",
       "      <th>2</th>\n",
       "      <td>631-41-3108</td>\n",
       "      <td>A</td>\n",
       "      <td>Yangon</td>\n",
       "      <td>Normal</td>\n",
       "      <td>Male</td>\n",
       "      <td>Home and lifestyle</td>\n",
       "      <td>46.33</td>\n",
       "      <td>7</td>\n",
       "      <td>16.2155</td>\n",
       "      <td>340.5255</td>\n",
       "      <td>3/3/2019</td>\n",
       "      <td>13:23</td>\n",
       "      <td>Credit card</td>\n",
       "      <td>324.31</td>\n",
       "      <td>4.761905</td>\n",
       "      <td>16.2155</td>\n",
       "      <td>7.4</td>\n",
       "    </tr>\n",
       "    <tr>\n",
       "      <th>3</th>\n",
       "      <td>123-19-1176</td>\n",
       "      <td>A</td>\n",
       "      <td>Yangon</td>\n",
       "      <td>Member</td>\n",
       "      <td>Male</td>\n",
       "      <td>Health and beauty</td>\n",
       "      <td>58.22</td>\n",
       "      <td>8</td>\n",
       "      <td>23.2880</td>\n",
       "      <td>489.0480</td>\n",
       "      <td>1/27/2019</td>\n",
       "      <td>20:33</td>\n",
       "      <td>Ewallet</td>\n",
       "      <td>465.76</td>\n",
       "      <td>4.761905</td>\n",
       "      <td>23.2880</td>\n",
       "      <td>8.4</td>\n",
       "    </tr>\n",
       "    <tr>\n",
       "      <th>4</th>\n",
       "      <td>373-73-7910</td>\n",
       "      <td>A</td>\n",
       "      <td>Yangon</td>\n",
       "      <td>Normal</td>\n",
       "      <td>Male</td>\n",
       "      <td>Sports and travel</td>\n",
       "      <td>86.31</td>\n",
       "      <td>7</td>\n",
       "      <td>30.2085</td>\n",
       "      <td>634.3785</td>\n",
       "      <td>2/8/2019</td>\n",
       "      <td>10:37</td>\n",
       "      <td>Ewallet</td>\n",
       "      <td>604.17</td>\n",
       "      <td>4.761905</td>\n",
       "      <td>30.2085</td>\n",
       "      <td>5.3</td>\n",
       "    </tr>\n",
       "  </tbody>\n",
       "</table>\n",
       "</div>"
      ],
      "text/plain": [
       "    Invoice ID Branch       City Customer type  Gender  \\\n",
       "0  750-67-8428      A     Yangon        Member  Female   \n",
       "1  226-31-3081      C  Naypyitaw        Normal  Female   \n",
       "2  631-41-3108      A     Yangon        Normal    Male   \n",
       "3  123-19-1176      A     Yangon        Member    Male   \n",
       "4  373-73-7910      A     Yangon        Normal    Male   \n",
       "\n",
       "             Product line  Unit price  Quantity   Tax 5%     Total       Date  \\\n",
       "0       Health and beauty       74.69         7  26.1415  548.9715   1/5/2019   \n",
       "1  Electronic accessories       15.28         5   3.8200   80.2200   3/8/2019   \n",
       "2      Home and lifestyle       46.33         7  16.2155  340.5255   3/3/2019   \n",
       "3       Health and beauty       58.22         8  23.2880  489.0480  1/27/2019   \n",
       "4       Sports and travel       86.31         7  30.2085  634.3785   2/8/2019   \n",
       "\n",
       "    Time      Payment    cogs  gross margin percentage  gross income  Rating  \n",
       "0  13:08      Ewallet  522.83                 4.761905       26.1415     9.1  \n",
       "1  10:29         Cash   76.40                 4.761905        3.8200     9.6  \n",
       "2  13:23  Credit card  324.31                 4.761905       16.2155     7.4  \n",
       "3  20:33      Ewallet  465.76                 4.761905       23.2880     8.4  \n",
       "4  10:37      Ewallet  604.17                 4.761905       30.2085     5.3  "
      ]
     },
     "execution_count": 7,
     "metadata": {},
     "output_type": "execute_result"
    }
   ],
   "source": [
    "# read and load the csv data file\n",
    "data = read_csv('supermarket_sales.csv')\n",
    "data.head()"
   ]
  },
  {
   "cell_type": "code",
   "execution_count": 8,
   "metadata": {},
   "outputs": [
    {
     "data": {
      "text/plain": [
       "(1000, 17)"
      ]
     },
     "execution_count": 8,
     "metadata": {},
     "output_type": "execute_result"
    }
   ],
   "source": [
    "data.shape"
   ]
  },
  {
   "cell_type": "code",
   "execution_count": 9,
   "metadata": {},
   "outputs": [
    {
     "data": {
      "text/plain": [
       "Invoice ID                 0\n",
       "Branch                     0\n",
       "City                       0\n",
       "Customer type              0\n",
       "Gender                     0\n",
       "Product line               0\n",
       "Unit price                 0\n",
       "Quantity                   0\n",
       "Tax 5%                     0\n",
       "Total                      0\n",
       "Date                       0\n",
       "Time                       0\n",
       "Payment                    0\n",
       "cogs                       0\n",
       "gross margin percentage    0\n",
       "gross income               0\n",
       "Rating                     0\n",
       "dtype: int64"
      ]
     },
     "execution_count": 9,
     "metadata": {},
     "output_type": "execute_result"
    }
   ],
   "source": [
    "#Checking for null values in the dataset\n",
    "data.isnull().sum()"
   ]
  },
  {
   "cell_type": "markdown",
   "metadata": {},
   "source": [
    "We see that there are no null values in our dataset"
   ]
  },
  {
   "cell_type": "markdown",
   "metadata": {},
   "source": [
    "**Statistical Analysis of the data :**"
   ]
  },
  {
   "cell_type": "code",
   "execution_count": 10,
   "metadata": {},
   "outputs": [],
   "source": [
    "Unit_price = data['Unit price']\n",
    "Quantity = data['Quantity']\n",
    "Tax  = data['Tax 5%']\n",
    "Total_Price = data['Total']\n",
    "cogs = data['cogs']\n",
    "gross_income = data['gross income']\n",
    "Rating = data['Rating']"
   ]
  },
  {
   "cell_type": "code",
   "execution_count": 11,
   "metadata": {
    "scrolled": true
   },
   "outputs": [
    {
     "data": {
      "text/html": [
       "<div>\n",
       "<style scoped>\n",
       "    .dataframe tbody tr th:only-of-type {\n",
       "        vertical-align: middle;\n",
       "    }\n",
       "\n",
       "    .dataframe tbody tr th {\n",
       "        vertical-align: top;\n",
       "    }\n",
       "\n",
       "    .dataframe thead th {\n",
       "        text-align: right;\n",
       "    }\n",
       "</style>\n",
       "<table border=\"1\" class=\"dataframe\">\n",
       "  <thead>\n",
       "    <tr style=\"text-align: right;\">\n",
       "      <th></th>\n",
       "      <th>Unit price</th>\n",
       "      <th>Quantity</th>\n",
       "      <th>Tax 5%</th>\n",
       "      <th>Total</th>\n",
       "      <th>cogs</th>\n",
       "      <th>gross margin percentage</th>\n",
       "      <th>gross income</th>\n",
       "      <th>Rating</th>\n",
       "    </tr>\n",
       "  </thead>\n",
       "  <tbody>\n",
       "    <tr>\n",
       "      <th>count</th>\n",
       "      <td>1000.000000</td>\n",
       "      <td>1000.000000</td>\n",
       "      <td>1000.000000</td>\n",
       "      <td>1000.000000</td>\n",
       "      <td>1000.00000</td>\n",
       "      <td>1.000000e+03</td>\n",
       "      <td>1000.000000</td>\n",
       "      <td>1000.00000</td>\n",
       "    </tr>\n",
       "    <tr>\n",
       "      <th>mean</th>\n",
       "      <td>55.672130</td>\n",
       "      <td>5.510000</td>\n",
       "      <td>15.379369</td>\n",
       "      <td>322.966749</td>\n",
       "      <td>307.58738</td>\n",
       "      <td>4.761905e+00</td>\n",
       "      <td>15.379369</td>\n",
       "      <td>6.97270</td>\n",
       "    </tr>\n",
       "    <tr>\n",
       "      <th>std</th>\n",
       "      <td>26.494628</td>\n",
       "      <td>2.923431</td>\n",
       "      <td>11.708825</td>\n",
       "      <td>245.885335</td>\n",
       "      <td>234.17651</td>\n",
       "      <td>6.220360e-14</td>\n",
       "      <td>11.708825</td>\n",
       "      <td>1.71858</td>\n",
       "    </tr>\n",
       "    <tr>\n",
       "      <th>min</th>\n",
       "      <td>10.080000</td>\n",
       "      <td>1.000000</td>\n",
       "      <td>0.508500</td>\n",
       "      <td>10.678500</td>\n",
       "      <td>10.17000</td>\n",
       "      <td>4.761905e+00</td>\n",
       "      <td>0.508500</td>\n",
       "      <td>4.00000</td>\n",
       "    </tr>\n",
       "    <tr>\n",
       "      <th>25%</th>\n",
       "      <td>32.875000</td>\n",
       "      <td>3.000000</td>\n",
       "      <td>5.924875</td>\n",
       "      <td>124.422375</td>\n",
       "      <td>118.49750</td>\n",
       "      <td>4.761905e+00</td>\n",
       "      <td>5.924875</td>\n",
       "      <td>5.50000</td>\n",
       "    </tr>\n",
       "    <tr>\n",
       "      <th>50%</th>\n",
       "      <td>55.230000</td>\n",
       "      <td>5.000000</td>\n",
       "      <td>12.088000</td>\n",
       "      <td>253.848000</td>\n",
       "      <td>241.76000</td>\n",
       "      <td>4.761905e+00</td>\n",
       "      <td>12.088000</td>\n",
       "      <td>7.00000</td>\n",
       "    </tr>\n",
       "    <tr>\n",
       "      <th>75%</th>\n",
       "      <td>77.935000</td>\n",
       "      <td>8.000000</td>\n",
       "      <td>22.445250</td>\n",
       "      <td>471.350250</td>\n",
       "      <td>448.90500</td>\n",
       "      <td>4.761905e+00</td>\n",
       "      <td>22.445250</td>\n",
       "      <td>8.50000</td>\n",
       "    </tr>\n",
       "    <tr>\n",
       "      <th>max</th>\n",
       "      <td>99.960000</td>\n",
       "      <td>10.000000</td>\n",
       "      <td>49.650000</td>\n",
       "      <td>1042.650000</td>\n",
       "      <td>993.00000</td>\n",
       "      <td>4.761905e+00</td>\n",
       "      <td>49.650000</td>\n",
       "      <td>10.00000</td>\n",
       "    </tr>\n",
       "    <tr>\n",
       "      <th>skew</th>\n",
       "      <td>0.007077</td>\n",
       "      <td>0.012941</td>\n",
       "      <td>0.892570</td>\n",
       "      <td>0.892570</td>\n",
       "      <td>0.89257</td>\n",
       "      <td>0.000000e+00</td>\n",
       "      <td>0.892570</td>\n",
       "      <td>0.00901</td>\n",
       "    </tr>\n",
       "  </tbody>\n",
       "</table>\n",
       "</div>"
      ],
      "text/plain": [
       "        Unit price     Quantity       Tax 5%        Total        cogs  \\\n",
       "count  1000.000000  1000.000000  1000.000000  1000.000000  1000.00000   \n",
       "mean     55.672130     5.510000    15.379369   322.966749   307.58738   \n",
       "std      26.494628     2.923431    11.708825   245.885335   234.17651   \n",
       "min      10.080000     1.000000     0.508500    10.678500    10.17000   \n",
       "25%      32.875000     3.000000     5.924875   124.422375   118.49750   \n",
       "50%      55.230000     5.000000    12.088000   253.848000   241.76000   \n",
       "75%      77.935000     8.000000    22.445250   471.350250   448.90500   \n",
       "max      99.960000    10.000000    49.650000  1042.650000   993.00000   \n",
       "skew      0.007077     0.012941     0.892570     0.892570     0.89257   \n",
       "\n",
       "       gross margin percentage  gross income      Rating  \n",
       "count             1.000000e+03   1000.000000  1000.00000  \n",
       "mean              4.761905e+00     15.379369     6.97270  \n",
       "std               6.220360e-14     11.708825     1.71858  \n",
       "min               4.761905e+00      0.508500     4.00000  \n",
       "25%               4.761905e+00      5.924875     5.50000  \n",
       "50%               4.761905e+00     12.088000     7.00000  \n",
       "75%               4.761905e+00     22.445250     8.50000  \n",
       "max               4.761905e+00     49.650000    10.00000  \n",
       "skew              0.000000e+00      0.892570     0.00901  "
      ]
     },
     "execution_count": 11,
     "metadata": {},
     "output_type": "execute_result"
    }
   ],
   "source": [
    "Data_stats1 = data.describe()\n",
    "Data_stats2 = data.agg(['skew'])\n",
    "Data_Stats = Data_stats1.append(Data_stats2)\n",
    "Data_Stats"
   ]
  },
  {
   "cell_type": "markdown",
   "metadata": {},
   "source": [
    "The above table provides key statistics about the quantitative values in the dataset. Using this we can get a overview about these data attributes for our analysis."
   ]
  },
  {
   "cell_type": "code",
   "execution_count": 12,
   "metadata": {
    "scrolled": false
   },
   "outputs": [
    {
     "data": {
      "image/png": "[encoded data removed]",
      "text/plain": [
       "<Figure size 1152x720 with 6 Axes>"
      ]
     },
     "metadata": {
      "needs_background": "light"
     },
     "output_type": "display_data"
    }
   ],
   "source": [
    "#Producing a histogram for the given variables\n",
    "plt.figure(figsize = [16, 10])\n",
    "plt.subplot(3, 3, 1)\n",
    "sns.distplot(Unit_price, hist=True, kde=True, \n",
    "             bins=int(180/5), color = 'blue',\n",
    "             hist_kws={'edgecolor':'black'})\n",
    "\n",
    "plt.subplot(3, 3, 2)\n",
    "sns.distplot(Quantity, hist=True, kde=True, \n",
    "             bins=int(180/5), color = 'blue',\n",
    "             hist_kws={'edgecolor':'black'})\n",
    "\n",
    "plt.subplot(3, 3, 3)\n",
    "sns.distplot(Tax, hist=True, kde=True, \n",
    "             bins=int(180/5), color = 'blue',\n",
    "             hist_kws={'edgecolor':'black'})\n",
    "\n",
    "plt.subplot(3, 3, 4)\n",
    "sns.distplot(Total_Price, hist=True, kde=True, \n",
    "             bins=int(180/5), color = 'blue',\n",
    "             hist_kws={'edgecolor':'black'})\n",
    "\n",
    "plt.subplot(3, 3, 5)\n",
    "sns.distplot(cogs, hist=True, kde=True, \n",
    "             bins=int(180/5), color = 'blue',\n",
    "             hist_kws={'edgecolor':'black'})\n",
    "\n",
    "plt.subplot(3, 3, 6)\n",
    "sns.distplot(gross_income, hist=True, kde=True, \n",
    "             bins=int(180/5), color = 'blue',\n",
    "             hist_kws={'edgecolor':'black'})\n",
    "\n",
    "plt.show()"
   ]
  },
  {
   "cell_type": "markdown",
   "metadata": {},
   "source": [
    "From the above distribution density plots we can infer that:\n",
    "* data attributes like Total, cogs,Tax 5% and gross income are normaly distributed with some skewness towards the right\n",
    "* there is some uniformity in distribution of Unit price and Quantity attributes with no skewness on either sides."
   ]
  },
  {
   "cell_type": "code",
   "execution_count": 13,
   "metadata": {},
   "outputs": [
    {
     "data": {
      "image/png": "[encoded data removed]",
      "text/plain": [
       "<Figure size 432x288 with 2 Axes>"
      ]
     },
     "metadata": {
      "needs_background": "light"
     },
     "output_type": "display_data"
    }
   ],
   "source": [
    "f, (ax_box, ax_hist) = plt.subplots(2, sharex=True, gridspec_kw={\"height_ratios\": (.15, .85)})\n",
    "plt.ticklabel_format(style='plain',axis='x')\n",
    "plt.ticklabel_format(style='plain',axis='y')\n",
    "ax_box.set_title(\"Rating\",fontsize=20)\n",
    "Boxplot=sns.boxplot(Rating, ax=ax_box)\n",
    "sns.distplot(Rating, ax=ax_hist,bins=20)\n",
    "ax_hist.set_xlabel('Rating',fontsize=20)\n",
    "ax_hist.set_ylabel('Frequency',fontsize=20)\n",
    "ax_box.set(xlabel='')\n",
    "plt.show()"
   ]
  },
  {
   "cell_type": "markdown",
   "metadata": {},
   "source": [
    "By observing the distribution of \"Rating\" data attribute we can say that the rating values are normally distributed between 4 to 10 and the box plot above the distribution suggests that the mean rating by customers is around 7. This can be used as a parameter to define a threshold of rating that will inturn be used to segregate good (>7) and bad ratings (=<7)."
   ]
  },
  {
   "cell_type": "code",
   "execution_count": 16,
   "metadata": {},
   "outputs": [],
   "source": [
    "QuantData = data[['Unit price','Quantity','Tax 5%','Total','cogs','gross income','Rating']]"
   ]
  },
  {
   "cell_type": "code",
   "execution_count": 17,
   "metadata": {},
   "outputs": [
    {
     "data": {
      "image/png": "[encoded data removed]",
      "text/plain": [
       "<Figure size 432x288 with 2 Axes>"
      ]
     },
     "metadata": {
      "needs_background": "light"
     },
     "output_type": "display_data"
    }
   ],
   "source": [
    "ax = plt.axes()\n",
    "ax.set_title('Pearson correlation coeff')\n",
    "sns.heatmap(QuantData.corr(), annot=True, fmt=\".2f\",ax = ax)\n",
    "plt.show()"
   ]
  },
  {
   "cell_type": "markdown",
   "metadata": {},
   "source": [
    "From the correlation matrix we can deduce that:\n",
    "* There is a strong correlation between Total Price ,Tax 5% ,gross income and cogs.This shows that all these attributes are interrelated with a correlation coefficient of 1.\n",
    "* There is a week correlation between Quantity and Unit price. Thus we can say that Quantity of the product sold does not effect the unit price of the product.\n",
    "* There is positive correlation  of Unit price and Quantity with Total Price ,Tax 5% ,gross income and cogs.\n",
    "* There is no relation of Rating with any of the available quantitative data attributes"
   ]
  },
  {
   "cell_type": "code",
   "execution_count": 14,
   "metadata": {},
   "outputs": [
    {
     "data": {
      "image/png": "[encoded data removed]",
      "text/plain": [
       "<Figure size 1080x720 with 8 Axes>"
      ]
     },
     "metadata": {
      "needs_background": "light"
     },
     "output_type": "display_data"
    }
   ],
   "source": [
    "plt.figure(figsize = [15, 10])\n",
    "plt.subplot(3, 3, 1)\n",
    "sns.regplot(x=Quantity, y=Tax,data=data, lowess=True)\n",
    "plt.subplot(3, 3, 2)\n",
    "sns.regplot(x=Quantity, y=cogs,data=data, lowess=True)\n",
    "plt.subplot(3, 3, 3)\n",
    "sns.regplot(x=Quantity, y=gross_income,data=data, lowess=True)\n",
    "plt.subplot(3, 3, 4)\n",
    "sns.regplot(x=cogs, y=Tax,data=data, lowess=True)\n",
    "plt.subplot(3, 3, 5)\n",
    "sns.regplot(x=gross_income, y=Tax,data=data, lowess=True)\n",
    "plt.subplot(3, 3, 6)\n",
    "sns.regplot(x=Total_Price, y=gross_income,data=data, lowess=True)\n",
    "plt.subplot(3, 3, 7)\n",
    "sns.regplot(x=cogs, y=gross_income,data=data, lowess=True)\n",
    "plt.subplot(3, 3, 8)\n",
    "sns.regplot(x=cogs, y=Total_Price,data=data, lowess=True)\n",
    "plt.show()"
   ]
  },
  {
   "cell_type": "markdown",
   "metadata": {},
   "source": [
    "The above regression plots aid as a supporting visual to our deductions made from correlation matrix."
   ]
  },
  {
   "cell_type": "code",
   "execution_count": 15,
   "metadata": {},
   "outputs": [],
   "source": [
    "Gender = data['Gender']\n",
    "le = LabelEncoder()\n",
    "le.fit(Gender)\n",
    "List = list(le.classes_)\n",
    "labels = pd.Series( (v for v in List) )\n",
    "Sizes = Gender.value_counts()"
   ]
  },
  {
   "cell_type": "code",
   "execution_count": 16,
   "metadata": {},
   "outputs": [
    {
     "data": {
      "image/png": "[encoded data removed]",
      "text/plain": [
       "<Figure size 432x288 with 1 Axes>"
      ]
     },
     "metadata": {},
     "output_type": "display_data"
    }
   ],
   "source": [
    "#Using matplotlib\n",
    "explode = (0, 0.1)  \n",
    "fig1, ax1 = plt.subplots()\n",
    "ax1.pie(Sizes, explode=explode, labels=labels, autopct='%1.1f%%',\n",
    "        shadow=True, startangle=90)\n",
    "ax1.axis('equal')  \n",
    "\n",
    "plt.show()"
   ]
  },
  {
   "cell_type": "markdown",
   "metadata": {},
   "source": [
    "From the pie chart we can say that the supermarket has evenly distributed customer base based on gender.While there are about 50.1% females visiting the supermarket there are about 49.9% males visiting the supermarket."
   ]
  },
  {
   "cell_type": "code",
   "execution_count": 18,
   "metadata": {},
   "outputs": [],
   "source": [
    "Customer_type = data['Customer type']\n",
    "le = LabelEncoder()\n",
    "le.fit(Customer_type)\n",
    "List2 = list(le.classes_)\n",
    "labels2 = pd.Series( (v for v in List2) )\n",
    "Sizes2 = Customer_type.value_counts()"
   ]
  },
  {
   "cell_type": "code",
   "execution_count": 19,
   "metadata": {},
   "outputs": [
    {
     "data": {
      "text/plain": [
       "['Member', 'Normal']"
      ]
     },
     "execution_count": 19,
     "metadata": {},
     "output_type": "execute_result"
    }
   ],
   "source": [
    "List2 = list(le.classes_)\n",
    "List2"
   ]
  },
  {
   "cell_type": "code",
   "execution_count": 20,
   "metadata": {},
   "outputs": [
    {
     "data": {
      "image/png": "[encoded data removed]",
      "text/plain": [
       "<Figure size 432x288 with 1 Axes>"
      ]
     },
     "metadata": {},
     "output_type": "display_data"
    }
   ],
   "source": [
    "#Using matplotlib\n",
    "explode = (0, 0.1)  \n",
    "fig1, ax1 = plt.subplots()\n",
    "ax1.pie(Sizes2, explode=explode, labels=labels2, autopct='%1.1f%%',\n",
    "        shadow=True, startangle=90)\n",
    "ax1.axis('equal')  \n",
    "\n",
    "plt.show()"
   ]
  },
  {
   "cell_type": "markdown",
   "metadata": {},
   "source": [
    "From the above pie chart we can say that there are almost equal number of members and non-members visiting the supermarket"
   ]
  },
  {
   "cell_type": "code",
   "execution_count": 21,
   "metadata": {
    "scrolled": true
   },
   "outputs": [
    {
     "data": {
      "image/png": "[encoded data removed]",
      "text/plain": [
       "<Figure size 576x360 with 1 Axes>"
      ]
     },
     "metadata": {
      "needs_background": "light"
     },
     "output_type": "display_data"
    }
   ],
   "source": [
    "# Creating plot\n",
    "plt.figure(figsize=(8,5))\n",
    "ax = sns.countplot(y ='Product line', data = data, orient = 'h',hue = 'Gender',palette=\"Set2\")\n",
    "ax.legend(fontsize = 9) \n",
    "# show plot\n",
    "plt.show()"
   ]
  },
  {
   "cell_type": "markdown",
   "metadata": {},
   "source": [
    "The above visual shows the type of products that the customers buy are based on their gender.From the plot it is evident that the female customers prefer to purchase Fashion accessories, Food and beverages, Sports and travel related products more when compared to male customers. Male customers prefer buying home and lifestyle, electronic accessories and Health and beauty accessories more when compared to female customers."
   ]
  },
  {
   "cell_type": "code",
   "execution_count": 21,
   "metadata": {
    "scrolled": true
   },
   "outputs": [
    {
     "data": {
      "image/png": "[encoded data removed]",
      "text/plain": [
       "<Figure size 576x360 with 1 Axes>"
      ]
     },
     "metadata": {
      "needs_background": "light"
     },
     "output_type": "display_data"
    }
   ],
   "source": [
    "# Creating plot\n",
    "plt.figure(figsize=(8,5))\n",
    "ax = sns.countplot(y ='Payment', data = data, orient = 'h',hue = 'Branch',palette = \"tab20\")\n",
    "ax.legend(fontsize = 9) \n",
    "# show plot\n",
    "plt.show()"
   ]
  },
  {
   "cell_type": "markdown",
   "metadata": {},
   "source": [
    "The above visual shows the payment methods used by customers in the 3 branches of super market. While customers visiting branch A prefer using Ewallet as the payment method, customers of branch C prefer Cash. Customers visiting branch B have almost same preference for all three modes of payment (Ewallet,Cash and Credit card) but there is a slightly higher use of credit card by branch B customers when compared to branch A and C."
   ]
  },
  {
   "cell_type": "code",
   "execution_count": 22,
   "metadata": {},
   "outputs": [
    {
     "data": {
      "image/png": "[encoded data removed]",
      "text/plain": [
       "<Figure size 720x288 with 1 Axes>"
      ]
     },
     "metadata": {
      "needs_background": "light"
     },
     "output_type": "display_data"
    }
   ],
   "source": [
    "data[\"Time\"]= pd.to_datetime(data[\"Time\"])\n",
    "data[\"Hour\"]= (data[\"Time\"]).dt.hour\n",
    "plt.figure(figsize=(10,4))\n",
    "fig = sns.lineplot(data=data, x=\"Hour\", y=\"Quantity\", hue=\"Gender\")"
   ]
  },
  {
   "cell_type": "markdown",
   "metadata": {},
   "source": [
    "Above plot shows the quantity of items purchased by male and female customers at different times of the day.<br>\n",
    "We can infer from the plot that the items purchased by female customers is greater than Male customers for most part of the day.Although there is a brief decline in the purchase by female customers between 5PM and 7PM compared to male customers"
   ]
  },
  {
   "cell_type": "code",
   "execution_count": 22,
   "metadata": {},
   "outputs": [
    {
     "data": {
      "image/png": "[encoded data removed]",
      "text/plain": [
       "<Figure size 432x288 with 1 Axes>"
      ]
     },
     "metadata": {
      "needs_background": "light"
     },
     "output_type": "display_data"
    }
   ],
   "source": [
    "sns.boxenplot(x='Customer type',y = 'Rating',hue ='Gender',data = data,palette=\"Set3\")\n",
    "plt.xlabel('Gender')\n",
    "plt.ylabel('Rating')\n",
    "plt.show()"
   ]
  },
  {
   "cell_type": "markdown",
   "metadata": {},
   "source": [
    "The above visual shows that irrespective of membership status, male customers give slightly higher rating that female customers for the products purchased at supermarket."
   ]
  },
  {
   "cell_type": "markdown",
   "metadata": {},
   "source": [
    "<u> <font color =\"purple\"><h3> Revised Project Statement:</h3></font></u> <br>"
   ]
  },
  {
   "cell_type": "markdown",
   "metadata": {},
   "source": [
    "Based on the exploratory data analysis done so far, please find below our revised project Statement:"
   ]
  },
  {
   "cell_type": "markdown",
   "metadata": {},
   "source": [
    "Project Goal: The purpose of this project is to predict the gross income generated across time for a supermarket with 3 branches in Mynamar (country).We would also like to predict gross income generated based on Quantity, Unit price etc.This will enable us to gage the future sustainability of the supermarket based on its sales."
   ]
  },
  {
   "cell_type": "markdown",
   "metadata": {},
   "source": [
    "<u> <font color =\"purple\"><h3> Baseline Model:</h3></font></u> <br>"
   ]
  },
  {
   "cell_type": "markdown",
   "metadata": {},
   "source": [
    "### Baseline Model for Regression Analysis"
   ]
  },
  {
   "cell_type": "code",
   "execution_count": 23,
   "metadata": {},
   "outputs": [],
   "source": [
    "dataset = data[['Unit price','Quantity', 'Tax 5%', 'Total','cogs', 'gross margin percentage', 'gross income']]"
   ]
  },
  {
   "cell_type": "code",
   "execution_count": 29,
   "metadata": {},
   "outputs": [],
   "source": [
    "# split into train and test sets (70% is training data and 30% is testing data)\n",
    "X = dataset.values\n",
    "size = int(len(X) * 0.70)\n",
    "train, test = X[0:size], X[size:len(X)]\n",
    "train_set = [x for x in train]"
   ]
  },
  {
   "cell_type": "code",
   "execution_count": 30,
   "metadata": {},
   "outputs": [
    {
     "data": {
      "text/plain": [
       "(700, 7)"
      ]
     },
     "execution_count": 30,
     "metadata": {},
     "output_type": "execute_result"
    }
   ],
   "source": [
    "train.shape"
   ]
  },
  {
   "cell_type": "code",
   "execution_count": 31,
   "metadata": {},
   "outputs": [
    {
     "data": {
      "text/plain": [
       "(300, 7)"
      ]
     },
     "execution_count": 31,
     "metadata": {},
     "output_type": "execute_result"
    }
   ],
   "source": [
    "test.shape"
   ]
  },
  {
   "cell_type": "code",
   "execution_count": 33,
   "metadata": {},
   "outputs": [],
   "source": [
    "# Generate random predictions\n",
    "def random_algorithm(train, test):\n",
    "    output_values = [row[-1] for row in train]\n",
    "    unique = list(set(output_values))\n",
    "    predicted = list()\n",
    "    for row in test:\n",
    "        index = randrange(len(unique))\n",
    "        predicted.append(unique[index])\n",
    "    return predicted"
   ]
  },
  {
   "cell_type": "code",
   "execution_count": 34,
   "metadata": {},
   "outputs": [
    {
     "data": {
      "text/html": [
       "<div>\n",
       "<style scoped>\n",
       "    .dataframe tbody tr th:only-of-type {\n",
       "        vertical-align: middle;\n",
       "    }\n",
       "\n",
       "    .dataframe tbody tr th {\n",
       "        vertical-align: top;\n",
       "    }\n",
       "\n",
       "    .dataframe thead th {\n",
       "        text-align: right;\n",
       "    }\n",
       "</style>\n",
       "<table border=\"1\" class=\"dataframe\">\n",
       "  <thead>\n",
       "    <tr style=\"text-align: right;\">\n",
       "      <th></th>\n",
       "      <th>Y_true</th>\n",
       "      <th>Y_pred</th>\n",
       "    </tr>\n",
       "  </thead>\n",
       "  <tbody>\n",
       "    <tr>\n",
       "      <th>0</th>\n",
       "      <td>24.1640</td>\n",
       "      <td>3.5975</td>\n",
       "    </tr>\n",
       "    <tr>\n",
       "      <th>1</th>\n",
       "      <td>4.8480</td>\n",
       "      <td>16.4000</td>\n",
       "    </tr>\n",
       "    <tr>\n",
       "      <th>2</th>\n",
       "      <td>9.8850</td>\n",
       "      <td>17.5950</td>\n",
       "    </tr>\n",
       "    <tr>\n",
       "      <th>3</th>\n",
       "      <td>36.2115</td>\n",
       "      <td>27.9510</td>\n",
       "    </tr>\n",
       "    <tr>\n",
       "      <th>4</th>\n",
       "      <td>39.7755</td>\n",
       "      <td>14.1960</td>\n",
       "    </tr>\n",
       "    <tr>\n",
       "      <th>...</th>\n",
       "      <td>...</td>\n",
       "      <td>...</td>\n",
       "    </tr>\n",
       "    <tr>\n",
       "      <th>295</th>\n",
       "      <td>2.0175</td>\n",
       "      <td>2.2790</td>\n",
       "    </tr>\n",
       "    <tr>\n",
       "      <th>296</th>\n",
       "      <td>48.6900</td>\n",
       "      <td>21.5650</td>\n",
       "    </tr>\n",
       "    <tr>\n",
       "      <th>297</th>\n",
       "      <td>1.5920</td>\n",
       "      <td>19.1300</td>\n",
       "    </tr>\n",
       "    <tr>\n",
       "      <th>298</th>\n",
       "      <td>3.2910</td>\n",
       "      <td>1.9710</td>\n",
       "    </tr>\n",
       "    <tr>\n",
       "      <th>299</th>\n",
       "      <td>30.9190</td>\n",
       "      <td>1.1480</td>\n",
       "    </tr>\n",
       "  </tbody>\n",
       "</table>\n",
       "<p>300 rows × 2 columns</p>\n",
       "</div>"
      ],
      "text/plain": [
       "      Y_true   Y_pred\n",
       "0    24.1640   3.5975\n",
       "1     4.8480  16.4000\n",
       "2     9.8850  17.5950\n",
       "3    36.2115  27.9510\n",
       "4    39.7755  14.1960\n",
       "..       ...      ...\n",
       "295   2.0175   2.2790\n",
       "296  48.6900  21.5650\n",
       "297   1.5920  19.1300\n",
       "298   3.2910   1.9710\n",
       "299  30.9190   1.1480\n",
       "\n",
       "[300 rows x 2 columns]"
      ]
     },
     "execution_count": 34,
     "metadata": {},
     "output_type": "execute_result"
    }
   ],
   "source": [
    "from sklearn.metrics import accuracy_score\n",
    "import random\n",
    "\n",
    "random.seed(1)\n",
    "\n",
    "Yhat = random_algorithm(train, test)\n",
    "Y = test[:,6]\n",
    "df = pd.DataFrame()\n",
    "df['Y_true'] = Y\n",
    "df['Y_pred'] = Yhat\n",
    "df"
   ]
  },
  {
   "cell_type": "code",
   "execution_count": 35,
   "metadata": {},
   "outputs": [
    {
     "name": "stdout",
     "output_type": "stream",
     "text": [
      "R^2 of the linear regression model is:  -0.7565620660915815\n"
     ]
    }
   ],
   "source": [
    "R2_baseline = r2_score(Y, Yhat)\n",
    "print('R^2 of the linear regression model is: ',R2_baseline)"
   ]
  },
  {
   "cell_type": "markdown",
   "metadata": {},
   "source": [
    "We see that our baseline model of random algorithm provides a negative R squared value indicating that the baseline model is not useful for our target prediction. However for our baseline model we are using 'Unit price','Quantity', 'Tax 5%', 'Total','cogs'and 'gross margin percentage' as our predictor variables"
   ]
  },
  {
   "cell_type": "markdown",
   "metadata": {},
   "source": [
    "### Baseline Model for Time Series Forecasting"
   ]
  },
  {
   "cell_type": "code",
   "execution_count": 36,
   "metadata": {
    "scrolled": false
   },
   "outputs": [
    {
     "data": {
      "text/html": [
       "<div>\n",
       "<style scoped>\n",
       "    .dataframe tbody tr th:only-of-type {\n",
       "        vertical-align: middle;\n",
       "    }\n",
       "\n",
       "    .dataframe tbody tr th {\n",
       "        vertical-align: top;\n",
       "    }\n",
       "\n",
       "    .dataframe thead th {\n",
       "        text-align: right;\n",
       "    }\n",
       "</style>\n",
       "<table border=\"1\" class=\"dataframe\">\n",
       "  <thead>\n",
       "    <tr style=\"text-align: right;\">\n",
       "      <th></th>\n",
       "      <th>Invoice ID</th>\n",
       "      <th>Branch</th>\n",
       "      <th>City</th>\n",
       "      <th>Customer type</th>\n",
       "      <th>Gender</th>\n",
       "      <th>Product line</th>\n",
       "      <th>Unit price</th>\n",
       "      <th>Quantity</th>\n",
       "      <th>Tax 5%</th>\n",
       "      <th>Total</th>\n",
       "      <th>Date</th>\n",
       "      <th>Time</th>\n",
       "      <th>Payment</th>\n",
       "      <th>cogs</th>\n",
       "      <th>gross margin percentage</th>\n",
       "      <th>gross income</th>\n",
       "      <th>Rating</th>\n",
       "    </tr>\n",
       "  </thead>\n",
       "  <tbody>\n",
       "    <tr>\n",
       "      <th>856</th>\n",
       "      <td>770-42-8960</td>\n",
       "      <td>B</td>\n",
       "      <td>Mandalay</td>\n",
       "      <td>Normal</td>\n",
       "      <td>Male</td>\n",
       "      <td>Food and beverages</td>\n",
       "      <td>21.12</td>\n",
       "      <td>8</td>\n",
       "      <td>8.4480</td>\n",
       "      <td>177.4080</td>\n",
       "      <td>2019-01-01</td>\n",
       "      <td>19:31</td>\n",
       "      <td>Cash</td>\n",
       "      <td>168.96</td>\n",
       "      <td>4.761905</td>\n",
       "      <td>8.4480</td>\n",
       "      <td>6.3</td>\n",
       "    </tr>\n",
       "    <tr>\n",
       "      <th>567</th>\n",
       "      <td>651-88-7328</td>\n",
       "      <td>A</td>\n",
       "      <td>Yangon</td>\n",
       "      <td>Normal</td>\n",
       "      <td>Female</td>\n",
       "      <td>Fashion accessories</td>\n",
       "      <td>65.74</td>\n",
       "      <td>9</td>\n",
       "      <td>29.5830</td>\n",
       "      <td>621.2430</td>\n",
       "      <td>2019-01-01</td>\n",
       "      <td>13:55</td>\n",
       "      <td>Cash</td>\n",
       "      <td>591.66</td>\n",
       "      <td>4.761905</td>\n",
       "      <td>29.5830</td>\n",
       "      <td>7.7</td>\n",
       "    </tr>\n",
       "    <tr>\n",
       "      <th>245</th>\n",
       "      <td>530-90-9855</td>\n",
       "      <td>A</td>\n",
       "      <td>Yangon</td>\n",
       "      <td>Member</td>\n",
       "      <td>Male</td>\n",
       "      <td>Home and lifestyle</td>\n",
       "      <td>47.59</td>\n",
       "      <td>8</td>\n",
       "      <td>19.0360</td>\n",
       "      <td>399.7560</td>\n",
       "      <td>2019-01-01</td>\n",
       "      <td>14:47</td>\n",
       "      <td>Cash</td>\n",
       "      <td>380.72</td>\n",
       "      <td>4.761905</td>\n",
       "      <td>19.0360</td>\n",
       "      <td>5.7</td>\n",
       "    </tr>\n",
       "    <tr>\n",
       "      <th>696</th>\n",
       "      <td>182-52-7000</td>\n",
       "      <td>A</td>\n",
       "      <td>Yangon</td>\n",
       "      <td>Member</td>\n",
       "      <td>Female</td>\n",
       "      <td>Sports and travel</td>\n",
       "      <td>27.04</td>\n",
       "      <td>4</td>\n",
       "      <td>5.4080</td>\n",
       "      <td>113.5680</td>\n",
       "      <td>2019-01-01</td>\n",
       "      <td>20:26</td>\n",
       "      <td>Ewallet</td>\n",
       "      <td>108.16</td>\n",
       "      <td>4.761905</td>\n",
       "      <td>5.4080</td>\n",
       "      <td>6.9</td>\n",
       "    </tr>\n",
       "    <tr>\n",
       "      <th>523</th>\n",
       "      <td>133-14-7229</td>\n",
       "      <td>C</td>\n",
       "      <td>Naypyitaw</td>\n",
       "      <td>Normal</td>\n",
       "      <td>Male</td>\n",
       "      <td>Health and beauty</td>\n",
       "      <td>62.87</td>\n",
       "      <td>2</td>\n",
       "      <td>6.2870</td>\n",
       "      <td>132.0270</td>\n",
       "      <td>2019-01-01</td>\n",
       "      <td>11:43</td>\n",
       "      <td>Cash</td>\n",
       "      <td>125.74</td>\n",
       "      <td>4.761905</td>\n",
       "      <td>6.2870</td>\n",
       "      <td>5.0</td>\n",
       "    </tr>\n",
       "    <tr>\n",
       "      <th>829</th>\n",
       "      <td>416-17-9926</td>\n",
       "      <td>A</td>\n",
       "      <td>Yangon</td>\n",
       "      <td>Member</td>\n",
       "      <td>Female</td>\n",
       "      <td>Electronic accessories</td>\n",
       "      <td>74.22</td>\n",
       "      <td>10</td>\n",
       "      <td>37.1100</td>\n",
       "      <td>779.3100</td>\n",
       "      <td>2019-01-01</td>\n",
       "      <td>14:42</td>\n",
       "      <td>Credit card</td>\n",
       "      <td>742.20</td>\n",
       "      <td>4.761905</td>\n",
       "      <td>37.1100</td>\n",
       "      <td>4.3</td>\n",
       "    </tr>\n",
       "    <tr>\n",
       "      <th>496</th>\n",
       "      <td>556-97-7101</td>\n",
       "      <td>C</td>\n",
       "      <td>Naypyitaw</td>\n",
       "      <td>Normal</td>\n",
       "      <td>Female</td>\n",
       "      <td>Electronic accessories</td>\n",
       "      <td>63.22</td>\n",
       "      <td>2</td>\n",
       "      <td>6.3220</td>\n",
       "      <td>132.7620</td>\n",
       "      <td>2019-01-01</td>\n",
       "      <td>15:51</td>\n",
       "      <td>Cash</td>\n",
       "      <td>126.44</td>\n",
       "      <td>4.761905</td>\n",
       "      <td>6.3220</td>\n",
       "      <td>8.5</td>\n",
       "    </tr>\n",
       "    <tr>\n",
       "      <th>970</th>\n",
       "      <td>746-04-1077</td>\n",
       "      <td>B</td>\n",
       "      <td>Mandalay</td>\n",
       "      <td>Member</td>\n",
       "      <td>Female</td>\n",
       "      <td>Food and beverages</td>\n",
       "      <td>84.63</td>\n",
       "      <td>10</td>\n",
       "      <td>42.3150</td>\n",
       "      <td>888.6150</td>\n",
       "      <td>2019-01-01</td>\n",
       "      <td>11:36</td>\n",
       "      <td>Credit card</td>\n",
       "      <td>846.30</td>\n",
       "      <td>4.761905</td>\n",
       "      <td>42.3150</td>\n",
       "      <td>9.0</td>\n",
       "    </tr>\n",
       "    <tr>\n",
       "      <th>484</th>\n",
       "      <td>493-65-6248</td>\n",
       "      <td>C</td>\n",
       "      <td>Naypyitaw</td>\n",
       "      <td>Member</td>\n",
       "      <td>Female</td>\n",
       "      <td>Sports and travel</td>\n",
       "      <td>36.98</td>\n",
       "      <td>10</td>\n",
       "      <td>18.4900</td>\n",
       "      <td>388.2900</td>\n",
       "      <td>2019-01-01</td>\n",
       "      <td>19:48</td>\n",
       "      <td>Credit card</td>\n",
       "      <td>369.80</td>\n",
       "      <td>4.761905</td>\n",
       "      <td>18.4900</td>\n",
       "      <td>7.0</td>\n",
       "    </tr>\n",
       "    <tr>\n",
       "      <th>17</th>\n",
       "      <td>765-26-6951</td>\n",
       "      <td>A</td>\n",
       "      <td>Yangon</td>\n",
       "      <td>Normal</td>\n",
       "      <td>Male</td>\n",
       "      <td>Sports and travel</td>\n",
       "      <td>72.61</td>\n",
       "      <td>6</td>\n",
       "      <td>21.7830</td>\n",
       "      <td>457.4430</td>\n",
       "      <td>2019-01-01</td>\n",
       "      <td>10:39</td>\n",
       "      <td>Credit card</td>\n",
       "      <td>435.66</td>\n",
       "      <td>4.761905</td>\n",
       "      <td>21.7830</td>\n",
       "      <td>6.9</td>\n",
       "    </tr>\n",
       "    <tr>\n",
       "      <th>839</th>\n",
       "      <td>271-77-8740</td>\n",
       "      <td>C</td>\n",
       "      <td>Naypyitaw</td>\n",
       "      <td>Member</td>\n",
       "      <td>Female</td>\n",
       "      <td>Sports and travel</td>\n",
       "      <td>29.22</td>\n",
       "      <td>6</td>\n",
       "      <td>8.7660</td>\n",
       "      <td>184.0860</td>\n",
       "      <td>2019-01-01</td>\n",
       "      <td>11:40</td>\n",
       "      <td>Ewallet</td>\n",
       "      <td>175.32</td>\n",
       "      <td>4.761905</td>\n",
       "      <td>8.7660</td>\n",
       "      <td>5.0</td>\n",
       "    </tr>\n",
       "    <tr>\n",
       "      <th>450</th>\n",
       "      <td>891-01-7034</td>\n",
       "      <td>B</td>\n",
       "      <td>Mandalay</td>\n",
       "      <td>Normal</td>\n",
       "      <td>Female</td>\n",
       "      <td>Electronic accessories</td>\n",
       "      <td>74.71</td>\n",
       "      <td>6</td>\n",
       "      <td>22.4130</td>\n",
       "      <td>470.6730</td>\n",
       "      <td>2019-01-01</td>\n",
       "      <td>19:07</td>\n",
       "      <td>Cash</td>\n",
       "      <td>448.26</td>\n",
       "      <td>4.761905</td>\n",
       "      <td>22.4130</td>\n",
       "      <td>6.7</td>\n",
       "    </tr>\n",
       "    <tr>\n",
       "      <th>451</th>\n",
       "      <td>744-09-5786</td>\n",
       "      <td>B</td>\n",
       "      <td>Mandalay</td>\n",
       "      <td>Normal</td>\n",
       "      <td>Male</td>\n",
       "      <td>Electronic accessories</td>\n",
       "      <td>22.01</td>\n",
       "      <td>6</td>\n",
       "      <td>6.6030</td>\n",
       "      <td>138.6630</td>\n",
       "      <td>2019-01-02</td>\n",
       "      <td>18:50</td>\n",
       "      <td>Cash</td>\n",
       "      <td>132.06</td>\n",
       "      <td>4.761905</td>\n",
       "      <td>6.6030</td>\n",
       "      <td>7.6</td>\n",
       "    </tr>\n",
       "    <tr>\n",
       "      <th>425</th>\n",
       "      <td>198-84-7132</td>\n",
       "      <td>B</td>\n",
       "      <td>Mandalay</td>\n",
       "      <td>Member</td>\n",
       "      <td>Male</td>\n",
       "      <td>Fashion accessories</td>\n",
       "      <td>40.61</td>\n",
       "      <td>9</td>\n",
       "      <td>18.2745</td>\n",
       "      <td>383.7645</td>\n",
       "      <td>2019-01-02</td>\n",
       "      <td>13:40</td>\n",
       "      <td>Cash</td>\n",
       "      <td>365.49</td>\n",
       "      <td>4.761905</td>\n",
       "      <td>18.2745</td>\n",
       "      <td>7.0</td>\n",
       "    </tr>\n",
       "    <tr>\n",
       "      <th>410</th>\n",
       "      <td>244-08-0162</td>\n",
       "      <td>B</td>\n",
       "      <td>Mandalay</td>\n",
       "      <td>Normal</td>\n",
       "      <td>Female</td>\n",
       "      <td>Health and beauty</td>\n",
       "      <td>34.21</td>\n",
       "      <td>10</td>\n",
       "      <td>17.1050</td>\n",
       "      <td>359.2050</td>\n",
       "      <td>2019-01-02</td>\n",
       "      <td>13:00</td>\n",
       "      <td>Cash</td>\n",
       "      <td>342.10</td>\n",
       "      <td>4.761905</td>\n",
       "      <td>17.1050</td>\n",
       "      <td>5.1</td>\n",
       "    </tr>\n",
       "  </tbody>\n",
       "</table>\n",
       "</div>"
      ],
      "text/plain": [
       "      Invoice ID Branch       City Customer type  Gender  \\\n",
       "856  770-42-8960      B   Mandalay        Normal    Male   \n",
       "567  651-88-7328      A     Yangon        Normal  Female   \n",
       "245  530-90-9855      A     Yangon        Member    Male   \n",
       "696  182-52-7000      A     Yangon        Member  Female   \n",
       "523  133-14-7229      C  Naypyitaw        Normal    Male   \n",
       "829  416-17-9926      A     Yangon        Member  Female   \n",
       "496  556-97-7101      C  Naypyitaw        Normal  Female   \n",
       "970  746-04-1077      B   Mandalay        Member  Female   \n",
       "484  493-65-6248      C  Naypyitaw        Member  Female   \n",
       "17   765-26-6951      A     Yangon        Normal    Male   \n",
       "839  271-77-8740      C  Naypyitaw        Member  Female   \n",
       "450  891-01-7034      B   Mandalay        Normal  Female   \n",
       "451  744-09-5786      B   Mandalay        Normal    Male   \n",
       "425  198-84-7132      B   Mandalay        Member    Male   \n",
       "410  244-08-0162      B   Mandalay        Normal  Female   \n",
       "\n",
       "               Product line  Unit price  Quantity   Tax 5%     Total  \\\n",
       "856      Food and beverages       21.12         8   8.4480  177.4080   \n",
       "567     Fashion accessories       65.74         9  29.5830  621.2430   \n",
       "245      Home and lifestyle       47.59         8  19.0360  399.7560   \n",
       "696       Sports and travel       27.04         4   5.4080  113.5680   \n",
       "523       Health and beauty       62.87         2   6.2870  132.0270   \n",
       "829  Electronic accessories       74.22        10  37.1100  779.3100   \n",
       "496  Electronic accessories       63.22         2   6.3220  132.7620   \n",
       "970      Food and beverages       84.63        10  42.3150  888.6150   \n",
       "484       Sports and travel       36.98        10  18.4900  388.2900   \n",
       "17        Sports and travel       72.61         6  21.7830  457.4430   \n",
       "839       Sports and travel       29.22         6   8.7660  184.0860   \n",
       "450  Electronic accessories       74.71         6  22.4130  470.6730   \n",
       "451  Electronic accessories       22.01         6   6.6030  138.6630   \n",
       "425     Fashion accessories       40.61         9  18.2745  383.7645   \n",
       "410       Health and beauty       34.21        10  17.1050  359.2050   \n",
       "\n",
       "          Date   Time      Payment    cogs  gross margin percentage  \\\n",
       "856 2019-01-01  19:31         Cash  168.96                 4.761905   \n",
       "567 2019-01-01  13:55         Cash  591.66                 4.761905   \n",
       "245 2019-01-01  14:47         Cash  380.72                 4.761905   \n",
       "696 2019-01-01  20:26      Ewallet  108.16                 4.761905   \n",
       "523 2019-01-01  11:43         Cash  125.74                 4.761905   \n",
       "829 2019-01-01  14:42  Credit card  742.20                 4.761905   \n",
       "496 2019-01-01  15:51         Cash  126.44                 4.761905   \n",
       "970 2019-01-01  11:36  Credit card  846.30                 4.761905   \n",
       "484 2019-01-01  19:48  Credit card  369.80                 4.761905   \n",
       "17  2019-01-01  10:39  Credit card  435.66                 4.761905   \n",
       "839 2019-01-01  11:40      Ewallet  175.32                 4.761905   \n",
       "450 2019-01-01  19:07         Cash  448.26                 4.761905   \n",
       "451 2019-01-02  18:50         Cash  132.06                 4.761905   \n",
       "425 2019-01-02  13:40         Cash  365.49                 4.761905   \n",
       "410 2019-01-02  13:00         Cash  342.10                 4.761905   \n",
       "\n",
       "     gross income  Rating  \n",
       "856        8.4480     6.3  \n",
       "567       29.5830     7.7  \n",
       "245       19.0360     5.7  \n",
       "696        5.4080     6.9  \n",
       "523        6.2870     5.0  \n",
       "829       37.1100     4.3  \n",
       "496        6.3220     8.5  \n",
       "970       42.3150     9.0  \n",
       "484       18.4900     7.0  \n",
       "17        21.7830     6.9  \n",
       "839        8.7660     5.0  \n",
       "450       22.4130     6.7  \n",
       "451        6.6030     7.6  \n",
       "425       18.2745     7.0  \n",
       "410       17.1050     5.1  "
      ]
     },
     "execution_count": 36,
     "metadata": {},
     "output_type": "execute_result"
    }
   ],
   "source": [
    "data[\"Date\"] = pd.to_datetime(data[\"Date\"])\n",
    "\n",
    "data = data.sort_values(by=\"Date\")\n",
    "data.head(15)"
   ]
  },
  {
   "cell_type": "code",
   "execution_count": 37,
   "metadata": {},
   "outputs": [
    {
     "data": {
      "image/png": "[encoded data removed]",
      "text/plain": [
       "<Figure size 720x288 with 1 Axes>"
      ]
     },
     "metadata": {
      "needs_background": "light"
     },
     "output_type": "display_data"
    }
   ],
   "source": [
    "plt.figure(figsize=(10,4))\n",
    "ax=sns.lineplot(x= data.groupby(data.Date).mean().index, \n",
    "             y = data.groupby(data.Date).mean()['gross income'])\n"
   ]
  },
  {
   "cell_type": "code",
   "execution_count": 38,
   "metadata": {},
   "outputs": [
    {
     "data": {
      "text/plain": [
       "Date\n",
       "2019-01-01    18.830083\n",
       "2019-01-02    11.580375\n",
       "2019-01-03    12.369813\n",
       "2019-01-04    12.886417\n",
       "2019-01-05    14.034458\n",
       "                ...    \n",
       "2019-03-26     7.188692\n",
       "2019-03-27    13.822950\n",
       "2019-03-28    10.616200\n",
       "2019-03-29    23.947875\n",
       "2019-03-30    19.424500\n",
       "Name: gross income, Length: 89, dtype: float64"
      ]
     },
     "execution_count": 38,
     "metadata": {},
     "output_type": "execute_result"
    }
   ],
   "source": [
    "Time_Series = data.groupby(data.Date).mean()['gross income']\n",
    "Time_Series"
   ]
  },
  {
   "cell_type": "code",
   "execution_count": 39,
   "metadata": {},
   "outputs": [
    {
     "name": "stdout",
     "output_type": "stream",
     "text": [
      "ADF Statistic: -8.638404825573984\n",
      "p-value: 5.5101708471067446e-14\n",
      "Critical Values:\n",
      "\t1%: -3.5078527246648834\n",
      "\t5%: -2.895382030636155\n",
      "\t10%: -2.584823877658872\n"
     ]
    }
   ],
   "source": [
    "result = adfuller(Time_Series)\n",
    "print('ADF Statistic: {}'.format(result[0]))\n",
    "print('p-value: {}'.format(result[1]))\n",
    "print('Critical Values:')\n",
    "for key, value in result[4].items():\n",
    "    print('\\t{}: {}'.format(key, value))"
   ]
  },
  {
   "cell_type": "markdown",
   "metadata": {},
   "source": [
    "In the above case, p value is (less than <0.5) which is very low, therefore we reject the null hypothesis and can deduce that our data is stationary"
   ]
  },
  {
   "cell_type": "code",
   "execution_count": 40,
   "metadata": {},
   "outputs": [
    {
     "name": "stdout",
     "output_type": "stream",
     "text": [
      "           t        t+1\n",
      "0        NaN  18.830083\n",
      "1  18.830083  11.580375\n",
      "2  11.580375  12.369813\n",
      "3  12.369813  12.886417\n",
      "4  12.886417  14.034458\n"
     ]
    }
   ],
   "source": [
    "# Create lagged dataset\n",
    "values = pd.DataFrame(Time_Series.values)\n",
    "dataframe = pd.concat([values.shift(1), values], axis=1)\n",
    "dataframe.columns = ['t', 't+1']\n",
    "print(dataframe.head(5))"
   ]
  },
  {
   "cell_type": "code",
   "execution_count": 41,
   "metadata": {},
   "outputs": [],
   "source": [
    "#split the time series into train and test\n",
    "X = dataframe.values\n",
    "train_size = int(len(X) * 0.66)\n",
    "train_baseline, test_baseline = X[1:train_size], X[train_size:]\n",
    "train_X, train_y = train_baseline[:,0], train_baseline[:,1]\n",
    "test_X, test_y = test_baseline[:,0], test_baseline[:,1]"
   ]
  },
  {
   "cell_type": "code",
   "execution_count": 42,
   "metadata": {},
   "outputs": [],
   "source": [
    "# persistence model\n",
    "def model_persistence(x):\n",
    "    return x"
   ]
  },
  {
   "cell_type": "code",
   "execution_count": 43,
   "metadata": {},
   "outputs": [
    {
     "name": "stdout",
     "output_type": "stream",
     "text": [
      "Test MSE: 29.847\n",
      "Test R2 Score: -1.066\n"
     ]
    }
   ],
   "source": [
    "# walk-forward validation\n",
    "predictions = list()\n",
    "for x in test_X:\n",
    "    yhat = model_persistence(x)\n",
    "    predictions.append(yhat)\n",
    "test_score = mean_squared_error(test_y, predictions)\n",
    "print('Test MSE: %.3f' % test_score)\n",
    "test_r2_score = r2_score(test_y, predictions)\n",
    "print('Test R2 Score: %.3f' % test_r2_score)"
   ]
  },
  {
   "cell_type": "code",
   "execution_count": 44,
   "metadata": {},
   "outputs": [
    {
     "data": {
      "image/png": "[encoded data removed]",
      "text/plain": [
       "<Figure size 432x288 with 1 Axes>"
      ]
     },
     "metadata": {
      "needs_background": "light"
     },
     "output_type": "display_data"
    }
   ],
   "source": [
    "# plot predictions and expected results\n",
    "plt.plot(train_y)\n",
    "#plt.plot([None for i in train_y] + [x for x in test_y])\n",
    "plt.plot([None for i in train_y] + [x for x in predictions])\n",
    "plt.show()"
   ]
  },
  {
   "cell_type": "markdown",
   "metadata": {},
   "source": [
    "<u> <font color =\"purple\"><h3>Machine Learning Models:</h3></font></u> <br>"
   ]
  },
  {
   "cell_type": "markdown",
   "metadata": {},
   "source": [
    "### Part 1: Regression Analysis"
   ]
  },
  {
   "cell_type": "markdown",
   "metadata": {},
   "source": [
    "**Linear Regression**"
   ]
  },
  {
   "cell_type": "code",
   "execution_count": 45,
   "metadata": {
    "scrolled": false
   },
   "outputs": [
    {
     "data": {
      "text/html": [
       "<div>\n",
       "<style scoped>\n",
       "    .dataframe tbody tr th:only-of-type {\n",
       "        vertical-align: middle;\n",
       "    }\n",
       "\n",
       "    .dataframe tbody tr th {\n",
       "        vertical-align: top;\n",
       "    }\n",
       "\n",
       "    .dataframe thead th {\n",
       "        text-align: right;\n",
       "    }\n",
       "</style>\n",
       "<table border=\"1\" class=\"dataframe\">\n",
       "  <thead>\n",
       "    <tr style=\"text-align: right;\">\n",
       "      <th></th>\n",
       "      <th>Unit price</th>\n",
       "      <th>Quantity</th>\n",
       "      <th>Tax 5%</th>\n",
       "      <th>Total</th>\n",
       "      <th>cogs</th>\n",
       "      <th>gross margin percentage</th>\n",
       "      <th>gross income</th>\n",
       "      <th>Rating</th>\n",
       "    </tr>\n",
       "  </thead>\n",
       "  <tbody>\n",
       "    <tr>\n",
       "      <th>856</th>\n",
       "      <td>21.12</td>\n",
       "      <td>8</td>\n",
       "      <td>8.448</td>\n",
       "      <td>177.408</td>\n",
       "      <td>168.96</td>\n",
       "      <td>4.761905</td>\n",
       "      <td>8.448</td>\n",
       "      <td>6.3</td>\n",
       "    </tr>\n",
       "    <tr>\n",
       "      <th>567</th>\n",
       "      <td>65.74</td>\n",
       "      <td>9</td>\n",
       "      <td>29.583</td>\n",
       "      <td>621.243</td>\n",
       "      <td>591.66</td>\n",
       "      <td>4.761905</td>\n",
       "      <td>29.583</td>\n",
       "      <td>7.7</td>\n",
       "    </tr>\n",
       "    <tr>\n",
       "      <th>245</th>\n",
       "      <td>47.59</td>\n",
       "      <td>8</td>\n",
       "      <td>19.036</td>\n",
       "      <td>399.756</td>\n",
       "      <td>380.72</td>\n",
       "      <td>4.761905</td>\n",
       "      <td>19.036</td>\n",
       "      <td>5.7</td>\n",
       "    </tr>\n",
       "    <tr>\n",
       "      <th>696</th>\n",
       "      <td>27.04</td>\n",
       "      <td>4</td>\n",
       "      <td>5.408</td>\n",
       "      <td>113.568</td>\n",
       "      <td>108.16</td>\n",
       "      <td>4.761905</td>\n",
       "      <td>5.408</td>\n",
       "      <td>6.9</td>\n",
       "    </tr>\n",
       "    <tr>\n",
       "      <th>523</th>\n",
       "      <td>62.87</td>\n",
       "      <td>2</td>\n",
       "      <td>6.287</td>\n",
       "      <td>132.027</td>\n",
       "      <td>125.74</td>\n",
       "      <td>4.761905</td>\n",
       "      <td>6.287</td>\n",
       "      <td>5.0</td>\n",
       "    </tr>\n",
       "    <tr>\n",
       "      <th>829</th>\n",
       "      <td>74.22</td>\n",
       "      <td>10</td>\n",
       "      <td>37.110</td>\n",
       "      <td>779.310</td>\n",
       "      <td>742.20</td>\n",
       "      <td>4.761905</td>\n",
       "      <td>37.110</td>\n",
       "      <td>4.3</td>\n",
       "    </tr>\n",
       "    <tr>\n",
       "      <th>496</th>\n",
       "      <td>63.22</td>\n",
       "      <td>2</td>\n",
       "      <td>6.322</td>\n",
       "      <td>132.762</td>\n",
       "      <td>126.44</td>\n",
       "      <td>4.761905</td>\n",
       "      <td>6.322</td>\n",
       "      <td>8.5</td>\n",
       "    </tr>\n",
       "    <tr>\n",
       "      <th>970</th>\n",
       "      <td>84.63</td>\n",
       "      <td>10</td>\n",
       "      <td>42.315</td>\n",
       "      <td>888.615</td>\n",
       "      <td>846.30</td>\n",
       "      <td>4.761905</td>\n",
       "      <td>42.315</td>\n",
       "      <td>9.0</td>\n",
       "    </tr>\n",
       "    <tr>\n",
       "      <th>484</th>\n",
       "      <td>36.98</td>\n",
       "      <td>10</td>\n",
       "      <td>18.490</td>\n",
       "      <td>388.290</td>\n",
       "      <td>369.80</td>\n",
       "      <td>4.761905</td>\n",
       "      <td>18.490</td>\n",
       "      <td>7.0</td>\n",
       "    </tr>\n",
       "    <tr>\n",
       "      <th>17</th>\n",
       "      <td>72.61</td>\n",
       "      <td>6</td>\n",
       "      <td>21.783</td>\n",
       "      <td>457.443</td>\n",
       "      <td>435.66</td>\n",
       "      <td>4.761905</td>\n",
       "      <td>21.783</td>\n",
       "      <td>6.9</td>\n",
       "    </tr>\n",
       "  </tbody>\n",
       "</table>\n",
       "</div>"
      ],
      "text/plain": [
       "     Unit price  Quantity  Tax 5%    Total    cogs  gross margin percentage  \\\n",
       "856       21.12         8   8.448  177.408  168.96                 4.761905   \n",
       "567       65.74         9  29.583  621.243  591.66                 4.761905   \n",
       "245       47.59         8  19.036  399.756  380.72                 4.761905   \n",
       "696       27.04         4   5.408  113.568  108.16                 4.761905   \n",
       "523       62.87         2   6.287  132.027  125.74                 4.761905   \n",
       "829       74.22        10  37.110  779.310  742.20                 4.761905   \n",
       "496       63.22         2   6.322  132.762  126.44                 4.761905   \n",
       "970       84.63        10  42.315  888.615  846.30                 4.761905   \n",
       "484       36.98        10  18.490  388.290  369.80                 4.761905   \n",
       "17        72.61         6  21.783  457.443  435.66                 4.761905   \n",
       "\n",
       "     gross income  Rating  \n",
       "856         8.448     6.3  \n",
       "567        29.583     7.7  \n",
       "245        19.036     5.7  \n",
       "696         5.408     6.9  \n",
       "523         6.287     5.0  \n",
       "829        37.110     4.3  \n",
       "496         6.322     8.5  \n",
       "970        42.315     9.0  \n",
       "484        18.490     7.0  \n",
       "17         21.783     6.9  "
      ]
     },
     "execution_count": 45,
     "metadata": {},
     "output_type": "execute_result"
    }
   ],
   "source": [
    "#extracting all the quantitative variables in the dataset\n",
    "df=data.iloc[:, [6,7,8,9,13,14,15,16]]\n",
    "\n",
    "df.head(10)"
   ]
  },
  {
   "cell_type": "code",
   "execution_count": 46,
   "metadata": {},
   "outputs": [
    {
     "data": {
      "text/plain": [
       "(1000, 2)"
      ]
     },
     "execution_count": 46,
     "metadata": {},
     "output_type": "execute_result"
    }
   ],
   "source": [
    "x = df.iloc[:,[0,1]].values  #Unit price and Quantity\n",
    "y = df.iloc[:,-2].values   #Gross Income\n",
    "\n",
    "x.shape"
   ]
  },
  {
   "cell_type": "code",
   "execution_count": 47,
   "metadata": {},
   "outputs": [
    {
     "data": {
      "text/plain": [
       "(1000,)"
      ]
     },
     "execution_count": 47,
     "metadata": {},
     "output_type": "execute_result"
    }
   ],
   "source": [
    "y.shape"
   ]
  },
  {
   "cell_type": "code",
   "execution_count": 48,
   "metadata": {},
   "outputs": [],
   "source": [
    "# Splitting the dataset into the Training set and Test set\n",
    "from sklearn.model_selection import train_test_split\n",
    "X_train, X_test, y_train, y_test = train_test_split(x, y, test_size = 0.3)"
   ]
  },
  {
   "cell_type": "code",
   "execution_count": 49,
   "metadata": {
    "scrolled": false
   },
   "outputs": [
    {
     "name": "stdout",
     "output_type": "stream",
     "text": [
      "R^2 of the linear regression model is:  0.8771175044436396\n",
      "Mean Squared Error of linear regression model is:  17.752487867084017\n"
     ]
    }
   ],
   "source": [
    "# Training the Simple Linear Regression model on the Training set\n",
    "model1 = LinearRegression()\n",
    "model1_results = model1.fit(X_train, y_train)\n",
    "\n",
    "# Predicting the gross income\n",
    "y1_pred = model1_results.predict(X_test)\n",
    "\n",
    "#evaluate model\n",
    "R2 = r2_score(y_test, y1_pred)\n",
    "print('R^2 of the linear regression model is: ',R2)\n",
    "\n",
    "MSE1 = mean_squared_error(y_test, y1_pred)\n",
    "print('Mean Squared Error of linear regression model is: ',MSE1)"
   ]
  },
  {
   "cell_type": "markdown",
   "metadata": {},
   "source": [
    "We can see that the R squared value for the Linear Regression Model is around 0.86 which proves the model t be performing well.However we are just using two features here and to reduce the bias we can use more impactful features and also the categorical predictors (after we encode them) and tune our linear regression model further. Also we can look for ways to reduce the mean squared error value for this linear regression model."
   ]
  },
  {
   "cell_type": "markdown",
   "metadata": {},
   "source": [
    "**Random Forest Regression**"
   ]
  },
  {
   "cell_type": "code",
   "execution_count": 50,
   "metadata": {},
   "outputs": [
    {
     "name": "stdout",
     "output_type": "stream",
     "text": [
      "R^2 of the Random Forest regression model is:  0.9994287699296528\n",
      "Mean Squared Error of Random Forest regression model is:  0.0825239986154168\n"
     ]
    }
   ],
   "source": [
    "# Training the Simple Linear Regression model on the Training set\n",
    "model_rf = RandomForestRegressor()\n",
    "modelrf_results = model_rf.fit(X_train, y_train)\n",
    "\n",
    "# Predicting the gross income\n",
    "yrf_pred = modelrf_results.predict(X_test)\n",
    "\n",
    "#evaluate model\n",
    "R2_rf = r2_score(y_test, yrf_pred)\n",
    "print('R^2 of the Random Forest regression model is: ',R2_rf)\n",
    "MSE_rf = mean_squared_error(y_test, yrf_pred)\n",
    "print('Mean Squared Error of Random Forest regression model is: ',MSE_rf)"
   ]
  },
  {
   "cell_type": "markdown",
   "metadata": {},
   "source": [
    "We see that the R squared value for Random forest reggressor model is almost 1 which will make the best predictions for gross income.However there is scope for improvement for this model based on parameters to be used in random forest regressor and larger input predictors variables to be used (to reduce bias)."
   ]
  },
  {
   "cell_type": "markdown",
   "metadata": {},
   "source": [
    "**Gradient Boosting Regression**"
   ]
  },
  {
   "cell_type": "code",
   "execution_count": 51,
   "metadata": {},
   "outputs": [
    {
     "name": "stdout",
     "output_type": "stream",
     "text": [
      "R^2 of the Random Forest regression model is:  0.9983703652633223\n",
      "Mean Squared Error of Random Forest regression model is:  0.23542873832164987\n"
     ]
    }
   ],
   "source": [
    "# Training the Simple Linear Regression model on the Training set\n",
    "model_GB = GradientBoostingRegressor()\n",
    "modelGB_results = model_GB.fit(X_train, y_train)\n",
    "\n",
    "# Predicting the gross income\n",
    "yGB_pred = modelGB_results.predict(X_test)\n",
    "\n",
    "#evaluate model\n",
    "R2_GB = r2_score(y_test, yGB_pred)\n",
    "print('R^2 of the Random Forest regression model is: ',R2_GB)\n",
    "MSE_GB = mean_squared_error(y_test, yGB_pred)\n",
    "print('Mean Squared Error of Random Forest regression model is: ',MSE_GB)"
   ]
  },
  {
   "cell_type": "markdown",
   "metadata": {},
   "source": [
    "We see that the R squared value for Gradient boosting reggressor model is high which will be making the good predictions for gross income.However there is scope for improvement for this model based on parameters to be used in gradient boosting regressor and multiple input predictors variables (to reduce bias)."
   ]
  },
  {
   "cell_type": "markdown",
   "metadata": {},
   "source": [
    "**Support Vector Regression**"
   ]
  },
  {
   "cell_type": "code",
   "execution_count": 52,
   "metadata": {},
   "outputs": [
    {
     "name": "stdout",
     "output_type": "stream",
     "text": [
      "R^2 of the Random Forest regression model is:  0.6927269750447524\n",
      "Mean Squared Error of Random Forest regression model is:  44.39086806223226\n"
     ]
    }
   ],
   "source": [
    "# Training the Simple Linear Regression model on the Training set\n",
    "model_SR = SVR()\n",
    "modelSR_results = model_SR.fit(X_train, y_train)\n",
    "\n",
    "# Predicting the gross income\n",
    "ySR_pred = modelSR_results.predict(X_test)\n",
    "\n",
    "#evaluate model\n",
    "R2_SR = r2_score(y_test, ySR_pred)\n",
    "print('R^2 of the Random Forest regression model is: ',R2_SR)\n",
    "MSE_SR = mean_squared_error(y_test, ySR_pred)\n",
    "print('Mean Squared Error of Random Forest regression model is: ',MSE_SR)"
   ]
  },
  {
   "cell_type": "markdown",
   "metadata": {},
   "source": [
    "We see that the R squared value for Support Vector regression model 0.644 which is not very high to make the good predictions for gross income.There is still scope for improvement for the model which we can further explore by using multiple input predictors variables."
   ]
  },
  {
   "cell_type": "markdown",
   "metadata": {},
   "source": [
    "<font color =\"purple\">As a next step in this project, we decided to encode the categorical variables and use our categorical and numeric variables together to predict our target variable (gross income)</font>"
   ]
  },
  {
   "cell_type": "code",
   "execution_count": 53,
   "metadata": {
    "scrolled": true
   },
   "outputs": [
    {
     "data": {
      "text/html": [
       "<div>\n",
       "<style scoped>\n",
       "    .dataframe tbody tr th:only-of-type {\n",
       "        vertical-align: middle;\n",
       "    }\n",
       "\n",
       "    .dataframe tbody tr th {\n",
       "        vertical-align: top;\n",
       "    }\n",
       "\n",
       "    .dataframe thead th {\n",
       "        text-align: right;\n",
       "    }\n",
       "</style>\n",
       "<table border=\"1\" class=\"dataframe\">\n",
       "  <thead>\n",
       "    <tr style=\"text-align: right;\">\n",
       "      <th></th>\n",
       "      <th>Unit price</th>\n",
       "      <th>Quantity</th>\n",
       "      <th>Tax 5%</th>\n",
       "      <th>Total</th>\n",
       "      <th>cogs</th>\n",
       "      <th>gross margin percentage</th>\n",
       "      <th>gross income</th>\n",
       "      <th>Rating</th>\n",
       "      <th>Female</th>\n",
       "      <th>Male</th>\n",
       "      <th>...</th>\n",
       "      <th>Food and beverages</th>\n",
       "      <th>Health and beauty</th>\n",
       "      <th>Home and lifestyle</th>\n",
       "      <th>Sports and travel</th>\n",
       "      <th>Mandalay</th>\n",
       "      <th>Naypyitaw</th>\n",
       "      <th>Yangon</th>\n",
       "      <th>Cash</th>\n",
       "      <th>Credit card</th>\n",
       "      <th>Ewallet</th>\n",
       "    </tr>\n",
       "  </thead>\n",
       "  <tbody>\n",
       "    <tr>\n",
       "      <th>856</th>\n",
       "      <td>21.12</td>\n",
       "      <td>8</td>\n",
       "      <td>8.448</td>\n",
       "      <td>177.408</td>\n",
       "      <td>168.96</td>\n",
       "      <td>4.761905</td>\n",
       "      <td>8.448</td>\n",
       "      <td>6.3</td>\n",
       "      <td>0</td>\n",
       "      <td>1</td>\n",
       "      <td>...</td>\n",
       "      <td>1</td>\n",
       "      <td>0</td>\n",
       "      <td>0</td>\n",
       "      <td>0</td>\n",
       "      <td>1</td>\n",
       "      <td>0</td>\n",
       "      <td>0</td>\n",
       "      <td>1</td>\n",
       "      <td>0</td>\n",
       "      <td>0</td>\n",
       "    </tr>\n",
       "    <tr>\n",
       "      <th>567</th>\n",
       "      <td>65.74</td>\n",
       "      <td>9</td>\n",
       "      <td>29.583</td>\n",
       "      <td>621.243</td>\n",
       "      <td>591.66</td>\n",
       "      <td>4.761905</td>\n",
       "      <td>29.583</td>\n",
       "      <td>7.7</td>\n",
       "      <td>1</td>\n",
       "      <td>0</td>\n",
       "      <td>...</td>\n",
       "      <td>0</td>\n",
       "      <td>0</td>\n",
       "      <td>0</td>\n",
       "      <td>0</td>\n",
       "      <td>0</td>\n",
       "      <td>0</td>\n",
       "      <td>1</td>\n",
       "      <td>1</td>\n",
       "      <td>0</td>\n",
       "      <td>0</td>\n",
       "    </tr>\n",
       "    <tr>\n",
       "      <th>245</th>\n",
       "      <td>47.59</td>\n",
       "      <td>8</td>\n",
       "      <td>19.036</td>\n",
       "      <td>399.756</td>\n",
       "      <td>380.72</td>\n",
       "      <td>4.761905</td>\n",
       "      <td>19.036</td>\n",
       "      <td>5.7</td>\n",
       "      <td>0</td>\n",
       "      <td>1</td>\n",
       "      <td>...</td>\n",
       "      <td>0</td>\n",
       "      <td>0</td>\n",
       "      <td>1</td>\n",
       "      <td>0</td>\n",
       "      <td>0</td>\n",
       "      <td>0</td>\n",
       "      <td>1</td>\n",
       "      <td>1</td>\n",
       "      <td>0</td>\n",
       "      <td>0</td>\n",
       "    </tr>\n",
       "    <tr>\n",
       "      <th>696</th>\n",
       "      <td>27.04</td>\n",
       "      <td>4</td>\n",
       "      <td>5.408</td>\n",
       "      <td>113.568</td>\n",
       "      <td>108.16</td>\n",
       "      <td>4.761905</td>\n",
       "      <td>5.408</td>\n",
       "      <td>6.9</td>\n",
       "      <td>1</td>\n",
       "      <td>0</td>\n",
       "      <td>...</td>\n",
       "      <td>0</td>\n",
       "      <td>0</td>\n",
       "      <td>0</td>\n",
       "      <td>1</td>\n",
       "      <td>0</td>\n",
       "      <td>0</td>\n",
       "      <td>1</td>\n",
       "      <td>0</td>\n",
       "      <td>0</td>\n",
       "      <td>1</td>\n",
       "    </tr>\n",
       "    <tr>\n",
       "      <th>523</th>\n",
       "      <td>62.87</td>\n",
       "      <td>2</td>\n",
       "      <td>6.287</td>\n",
       "      <td>132.027</td>\n",
       "      <td>125.74</td>\n",
       "      <td>4.761905</td>\n",
       "      <td>6.287</td>\n",
       "      <td>5.0</td>\n",
       "      <td>0</td>\n",
       "      <td>1</td>\n",
       "      <td>...</td>\n",
       "      <td>0</td>\n",
       "      <td>1</td>\n",
       "      <td>0</td>\n",
       "      <td>0</td>\n",
       "      <td>0</td>\n",
       "      <td>1</td>\n",
       "      <td>0</td>\n",
       "      <td>1</td>\n",
       "      <td>0</td>\n",
       "      <td>0</td>\n",
       "    </tr>\n",
       "  </tbody>\n",
       "</table>\n",
       "<p>5 rows × 24 columns</p>\n",
       "</div>"
      ],
      "text/plain": [
       "     Unit price  Quantity  Tax 5%    Total    cogs  gross margin percentage  \\\n",
       "856       21.12         8   8.448  177.408  168.96                 4.761905   \n",
       "567       65.74         9  29.583  621.243  591.66                 4.761905   \n",
       "245       47.59         8  19.036  399.756  380.72                 4.761905   \n",
       "696       27.04         4   5.408  113.568  108.16                 4.761905   \n",
       "523       62.87         2   6.287  132.027  125.74                 4.761905   \n",
       "\n",
       "     gross income  Rating  Female  Male  ...  Food and beverages  \\\n",
       "856         8.448     6.3       0     1  ...                   1   \n",
       "567        29.583     7.7       1     0  ...                   0   \n",
       "245        19.036     5.7       0     1  ...                   0   \n",
       "696         5.408     6.9       1     0  ...                   0   \n",
       "523         6.287     5.0       0     1  ...                   0   \n",
       "\n",
       "     Health and beauty  Home and lifestyle  Sports and travel  Mandalay  \\\n",
       "856                  0                   0                  0         1   \n",
       "567                  0                   0                  0         0   \n",
       "245                  0                   1                  0         0   \n",
       "696                  0                   0                  1         0   \n",
       "523                  1                   0                  0         0   \n",
       "\n",
       "     Naypyitaw  Yangon  Cash  Credit card  Ewallet  \n",
       "856          0       0     1            0        0  \n",
       "567          0       1     1            0        0  \n",
       "245          0       1     1            0        0  \n",
       "696          0       1     0            0        1  \n",
       "523          1       0     1            0        0  \n",
       "\n",
       "[5 rows x 24 columns]"
      ]
     },
     "execution_count": 53,
     "metadata": {},
     "output_type": "execute_result"
    }
   ],
   "source": [
    "#Create dummy variables for \"Gender\"  categorical variable\n",
    "dummy = pd.get_dummies(data=data['Gender'])\n",
    "\n",
    "#Create dummy variables for \"Customer type\" categorical variable\n",
    "dummy1 = pd.get_dummies(data=data['Customer type'])\n",
    "\n",
    "#Create dummy variables for \"Product line\" categorical variable\n",
    "dummy2 = pd.get_dummies(data=data['Product line'])\n",
    "\n",
    "#Create dummy variables for \"City\" categorical variable\n",
    "dummy3 = pd.get_dummies(data=data['City'])\n",
    "\n",
    "#Create dummy variables for \"Payment\" categorical variable\n",
    "dummy4 = pd.get_dummies(data=data['Payment'])\n",
    "\n",
    "dataset = pd.concat([df, dummy,dummy1,dummy2,dummy3,dummy4], axis = 1)\n",
    "dataset.head()"
   ]
  },
  {
   "cell_type": "markdown",
   "metadata": {},
   "source": [
    "<font color = \"purple\">First we are trying to use only Unit price,Quantitity, Gender & Customer type as our predictors </font>"
   ]
  },
  {
   "cell_type": "code",
   "execution_count": 54,
   "metadata": {},
   "outputs": [],
   "source": [
    "x_new = dataset.iloc[:,[0,1,8,9,10,11]].values  #Unit price,Quantitity, Gender & Customer type\n",
    "y_new = dataset.iloc[:,-6].values   #Gross Income"
   ]
  },
  {
   "cell_type": "code",
   "execution_count": 55,
   "metadata": {},
   "outputs": [
    {
     "data": {
      "text/plain": [
       "(1000, 6)"
      ]
     },
     "execution_count": 55,
     "metadata": {},
     "output_type": "execute_result"
    }
   ],
   "source": [
    "x_new.shape"
   ]
  },
  {
   "cell_type": "code",
   "execution_count": 56,
   "metadata": {},
   "outputs": [
    {
     "data": {
      "text/plain": [
       "(1000,)"
      ]
     },
     "execution_count": 56,
     "metadata": {},
     "output_type": "execute_result"
    }
   ],
   "source": [
    "y_new.shape"
   ]
  },
  {
   "cell_type": "code",
   "execution_count": 57,
   "metadata": {},
   "outputs": [
    {
     "data": {
      "text/plain": [
       "array([[-1.30477086,  0.85216524, -1.002002  ,  1.002002  , -1.002002  ,\n",
       "         1.002002  ],\n",
       "       [ 0.38018679,  1.19440028,  0.998002  , -0.998002  , -1.002002  ,\n",
       "         1.002002  ],\n",
       "       [-0.30520051,  0.85216524, -1.002002  ,  1.002002  ,  0.998002  ,\n",
       "        -0.998002  ],\n",
       "       ...,\n",
       "       [ 1.55384174, -0.85900994, -1.002002  ,  1.002002  ,  0.998002  ,\n",
       "        -0.998002  ],\n",
       "       [ 1.27666583, -0.17453987,  0.998002  , -0.998002  , -1.002002  ,\n",
       "         1.002002  ],\n",
       "       [ 0.33109569, -0.17453987,  0.998002  , -0.998002  ,  0.998002  ,\n",
       "        -0.998002  ]])"
      ]
     },
     "execution_count": 57,
     "metadata": {},
     "output_type": "execute_result"
    }
   ],
   "source": [
    "#Standardizing data\n",
    "scaler = StandardScaler()\n",
    "scaler.fit(x_new)\n",
    "transformed_data = scaler.transform(x_new)\n",
    "transformed_data"
   ]
  },
  {
   "cell_type": "code",
   "execution_count": 58,
   "metadata": {},
   "outputs": [],
   "source": [
    "# Splitting the dataset into the Training set and Test set\n",
    "from sklearn.model_selection import train_test_split\n",
    "Xnew_train, Xnew_test, ynew_train, ynew_test = train_test_split(transformed_data, y_new, test_size = 0.3)"
   ]
  },
  {
   "cell_type": "markdown",
   "metadata": {},
   "source": [
    "**Linear Regression Model**"
   ]
  },
  {
   "cell_type": "code",
   "execution_count": 59,
   "metadata": {},
   "outputs": [
    {
     "name": "stdout",
     "output_type": "stream",
     "text": [
      "R^2 of the linear regression model is:  -0.0010974379019252911\n",
      "Mean Squared Error of linear regression model is:  0.2213426435201156\n"
     ]
    }
   ],
   "source": [
    "# Training the Simple Linear Regression model on the Training set\n",
    "model1 = LinearRegression()\n",
    "model1new_results = model1.fit(Xnew_train, ynew_train)\n",
    "\n",
    "# Predicting the gross income\n",
    "y1new_pred = model1new_results.predict(Xnew_test)\n",
    "\n",
    "#evaluate model\n",
    "R2new = r2_score(ynew_test, y1new_pred)\n",
    "print('R^2 of the linear regression model is: ',R2new)\n",
    "\n",
    "MSE1new = mean_squared_error(ynew_test, y1new_pred)\n",
    "print('Mean Squared Error of linear regression model is: ',MSE1new)"
   ]
  },
  {
   "cell_type": "markdown",
   "metadata": {},
   "source": [
    "**Random Forest Regression**"
   ]
  },
  {
   "cell_type": "code",
   "execution_count": 60,
   "metadata": {},
   "outputs": [
    {
     "name": "stdout",
     "output_type": "stream",
     "text": [
      "R^2 of the Random Forest regression model is:  -0.22774204986029822\n",
      "Mean Squared Error of Random Forest regression model is:  0.27145376722411185\n"
     ]
    }
   ],
   "source": [
    "# Training the Simple Linear Regression model on the Training set\n",
    "modelnew_rf = RandomForestRegressor()\n",
    "modelnewrf_results = modelnew_rf.fit(Xnew_train, ynew_train)\n",
    "\n",
    "# Predicting the gross income\n",
    "ynewrf_pred = modelnewrf_results.predict(Xnew_test)\n",
    "\n",
    "#evaluate model\n",
    "R2new_rf = r2_score(ynew_test, ynewrf_pred)\n",
    "print('R^2 of the Random Forest regression model is: ',R2new_rf)\n",
    "MSEnew_rf = mean_squared_error(ynew_test, ynewrf_pred)\n",
    "print('Mean Squared Error of Random Forest regression model is: ',MSEnew_rf)"
   ]
  },
  {
   "cell_type": "markdown",
   "metadata": {},
   "source": [
    "**Gradient Boosting Regression**"
   ]
  },
  {
   "cell_type": "code",
   "execution_count": 61,
   "metadata": {},
   "outputs": [
    {
     "name": "stdout",
     "output_type": "stream",
     "text": [
      "R^2 of the Gradient Boosting regression model is:  -0.08032277040905034\n",
      "Mean Squared Error of Gradient Boosting regression model is:  0.238859364537441\n"
     ]
    }
   ],
   "source": [
    "# Training the Simple Linear Regression model on the Training set\n",
    "modelnew_GB = GradientBoostingRegressor()\n",
    "modelnewGB_results = modelnew_GB.fit(Xnew_train, ynew_train)\n",
    "\n",
    "# Predicting the gross income\n",
    "ynewGB_pred = modelnewGB_results.predict(Xnew_test)\n",
    "\n",
    "#evaluate model\n",
    "R2new_GB = r2_score(ynew_test, ynewGB_pred)\n",
    "print('R^2 of the Gradient Boosting regression model is: ',R2new_GB)\n",
    "MSEnew_GB = mean_squared_error(ynew_test, ynewGB_pred)\n",
    "print('Mean Squared Error of Gradient Boosting regression model is: ',MSEnew_GB)"
   ]
  },
  {
   "cell_type": "markdown",
   "metadata": {},
   "source": [
    "**Support Vector Regression**"
   ]
  },
  {
   "cell_type": "code",
   "execution_count": 62,
   "metadata": {},
   "outputs": [
    {
     "name": "stdout",
     "output_type": "stream",
     "text": [
      "R^2 of the Support vector regression model is:  -0.23523445106943308\n",
      "Mean Squared Error of Support vector regression model is:  0.2731103371314516\n"
     ]
    }
   ],
   "source": [
    "# Training the Simple Linear Regression model on the Training set\n",
    "modelnew_SR = SVR()\n",
    "modelnewSR_results = modelnew_SR.fit(Xnew_train, ynew_train)\n",
    "\n",
    "# Predicting the gross income\n",
    "ynewSR_pred = modelnewSR_results.predict(Xnew_test)\n",
    "\n",
    "#evaluate model\n",
    "R2new_SR = r2_score(ynew_test, ynewSR_pred)\n",
    "print('R^2 of the Support vector regression model is: ',R2new_SR)\n",
    "MSEnew_SR = mean_squared_error(ynew_test, ynewSR_pred)\n",
    "print('Mean Squared Error of Support vector regression model is: ',MSEnew_SR)"
   ]
  },
  {
   "cell_type": "markdown",
   "metadata": {},
   "source": [
    "<font color = \"purple\">Now we will use almost all predictors (Quantitative (Unit Price & Quantity) & Categorical variables (Gender, Customer Type, City, Payment, Product Line) to get the required target (gross income) </font>"
   ]
  },
  {
   "cell_type": "code",
   "execution_count": 64,
   "metadata": {},
   "outputs": [],
   "source": [
    "x_new2 = dataset.iloc[:,[0,1,8,9,10,11,12,13,14,15,16,17,18,19,20,21,22,23]].values #Unit price,Quantitity, Gender, Customer type,City, Payment, Product Line\n",
    "y_new2 = dataset.iloc[:,-18].values   #Gross Income"
   ]
  },
  {
   "cell_type": "code",
   "execution_count": 65,
   "metadata": {},
   "outputs": [
    {
     "data": {
      "text/plain": [
       "(1000, 18)"
      ]
     },
     "execution_count": 65,
     "metadata": {},
     "output_type": "execute_result"
    }
   ],
   "source": [
    "x_new2.shape"
   ]
  },
  {
   "cell_type": "code",
   "execution_count": 66,
   "metadata": {},
   "outputs": [
    {
     "data": {
      "text/plain": [
       "(1000,)"
      ]
     },
     "execution_count": 66,
     "metadata": {},
     "output_type": "execute_result"
    }
   ],
   "source": [
    "y_new2.shape"
   ]
  },
  {
   "cell_type": "code",
   "execution_count": 67,
   "metadata": {},
   "outputs": [
    {
     "data": {
      "text/plain": [
       "array([[-1.30477086,  0.85216524, -1.002002  , ...,  1.38093329,\n",
       "        -0.67184731, -0.7257531 ],\n",
       "       [ 0.38018679,  1.19440028,  0.998002  , ...,  1.38093329,\n",
       "        -0.67184731, -0.7257531 ],\n",
       "       [-0.30520051,  0.85216524, -1.002002  , ...,  1.38093329,\n",
       "        -0.67184731, -0.7257531 ],\n",
       "       ...,\n",
       "       [ 1.55384174, -0.85900994, -1.002002  , ...,  1.38093329,\n",
       "        -0.67184731, -0.7257531 ],\n",
       "       [ 1.27666583, -0.17453987,  0.998002  , ...,  1.38093329,\n",
       "        -0.67184731, -0.7257531 ],\n",
       "       [ 0.33109569, -0.17453987,  0.998002  , ...,  1.38093329,\n",
       "        -0.67184731, -0.7257531 ]])"
      ]
     },
     "execution_count": 67,
     "metadata": {},
     "output_type": "execute_result"
    }
   ],
   "source": [
    "#Standardizing data\n",
    "scaler2 = StandardScaler()\n",
    "scaler2.fit(x_new2)\n",
    "transformed_data2 = scaler2.transform(x_new2)\n",
    "transformed_data2"
   ]
  },
  {
   "cell_type": "code",
   "execution_count": 68,
   "metadata": {},
   "outputs": [],
   "source": [
    "# Splitting the dataset into the Training set and Test set\n",
    "Xnew_train2, Xnew_test2, ynew_train2, ynew_test2 = train_test_split(transformed_data2, y_new2, test_size = 0.3)"
   ]
  },
  {
   "cell_type": "markdown",
   "metadata": {},
   "source": [
    "**Linear Regression Model**"
   ]
  },
  {
   "cell_type": "code",
   "execution_count": 69,
   "metadata": {},
   "outputs": [
    {
     "name": "stdout",
     "output_type": "stream",
     "text": [
      "R^2 of the linear regression model is:  0.8816969386000758\n",
      "Mean Squared Error of linear regression model is:  16.083138943289473\n"
     ]
    }
   ],
   "source": [
    "# Training the Simple Linear Regression model on the Training set\n",
    "model_LR = LinearRegression()\n",
    "model_LR_results = model_LR.fit(Xnew_train2, ynew_train2)\n",
    "\n",
    "# Predicting the gross income\n",
    "yLRnew_pred = model_LR_results.predict(Xnew_test2)\n",
    "\n",
    "#evaluate model\n",
    "R2LRnew = r2_score(ynew_test2, yLRnew_pred)\n",
    "print('R^2 of the linear regression model is: ',R2LRnew)\n",
    "\n",
    "MSELRnew = mean_squared_error(ynew_test2, yLRnew_pred)\n",
    "print('Mean Squared Error of linear regression model is: ',MSELRnew)"
   ]
  },
  {
   "cell_type": "markdown",
   "metadata": {},
   "source": [
    "**Random Forest Regression**"
   ]
  },
  {
   "cell_type": "code",
   "execution_count": 71,
   "metadata": {},
   "outputs": [
    {
     "name": "stdout",
     "output_type": "stream",
     "text": [
      "R^2 of the Random Forest regression model is:  0.9990951705219453\n",
      "Mean Squared Error of Random Forest regression model is:  0.12301032655733465\n"
     ]
    }
   ],
   "source": [
    "# Training the Simple Linear Regression model on the Training set\n",
    "modelnew_rf2 = RandomForestRegressor()\n",
    "modelnewrf2_results = modelnew_rf2.fit(Xnew_train2, ynew_train2)\n",
    "\n",
    "# Predicting the gross income\n",
    "ynewrf2_pred = modelnewrf2_results.predict(Xnew_test2)\n",
    "\n",
    "#evaluate model\n",
    "R2new_rf2 = r2_score(ynew_test2, ynewrf2_pred)\n",
    "print('R^2 of the Random Forest regression model is: ',R2new_rf2)\n",
    "MSEnew_rf2 = mean_squared_error(ynew_test2, ynewrf2_pred)\n",
    "print('Mean Squared Error of Random Forest regression model is: ',MSEnew_rf2)"
   ]
  },
  {
   "cell_type": "markdown",
   "metadata": {},
   "source": [
    "**Gradient Boosting Regression**"
   ]
  },
  {
   "cell_type": "code",
   "execution_count": 72,
   "metadata": {},
   "outputs": [
    {
     "name": "stdout",
     "output_type": "stream",
     "text": [
      "R^2 of the Gradient Boosting regression model is:  0.9983490623022543\n",
      "Mean Squared Error of Gradient Boosting regression model is:  0.22444271572820185\n"
     ]
    }
   ],
   "source": [
    "# Training the Simple Linear Regression model on the Training set\n",
    "modelnew_GB2 = GradientBoostingRegressor()\n",
    "modelnewGB2_results = modelnew_GB2.fit(Xnew_train2, ynew_train2)\n",
    "\n",
    "# Predicting the gross income\n",
    "ynewGB2_pred = modelnewGB2_results.predict(Xnew_test2)\n",
    "\n",
    "#evaluate model\n",
    "R2new_GB2 = r2_score(ynew_test2, ynewGB2_pred)\n",
    "print('R^2 of the Gradient Boosting regression model is: ',R2new_GB2)\n",
    "MSEnew_GB2 = mean_squared_error(ynew_test2, ynewGB2_pred)\n",
    "print('Mean Squared Error of Gradient Boosting regression model is: ',MSEnew_GB2)"
   ]
  },
  {
   "cell_type": "markdown",
   "metadata": {},
   "source": [
    "**Support Vector Regression**"
   ]
  },
  {
   "cell_type": "code",
   "execution_count": 73,
   "metadata": {},
   "outputs": [
    {
     "name": "stdout",
     "output_type": "stream",
     "text": [
      "R^2 of the Support Vector regression model is:  0.7835986031477227\n",
      "Mean Squared Error of Support Vector regression model is:  29.419473105024238\n"
     ]
    }
   ],
   "source": [
    "# Training the Simple Linear Regression model on the Training set\n",
    "modelnew_SR2 = SVR()\n",
    "modelnewSR2_results = modelnew_SR2.fit(Xnew_train2, ynew_train2)\n",
    "\n",
    "# Predicting the gross income\n",
    "ynewSR2_pred = modelnewSR2_results.predict(Xnew_test2)\n",
    "\n",
    "#evaluate model\n",
    "R2new_SR2 = r2_score(ynew_test2, ynewSR2_pred)\n",
    "print('R^2 of the Support Vector regression model is: ',R2new_SR2)\n",
    "MSEnew_SR2 = mean_squared_error(ynew_test2, ynewSR2_pred)\n",
    "print('Mean Squared Error of Support Vector regression model is: ',MSEnew_SR2)"
   ]
  },
  {
   "cell_type": "code",
   "execution_count": 74,
   "metadata": {},
   "outputs": [
    {
     "name": "stdout",
     "output_type": "stream",
     "text": [
      "\n",
      "Performance Measures of implemented Machine Learning Models when only Quantitative predictors (input variables) are used:\n"
     ]
    },
    {
     "data": {
      "text/html": [
       "<div>\n",
       "<style scoped>\n",
       "    .dataframe tbody tr th:only-of-type {\n",
       "        vertical-align: middle;\n",
       "    }\n",
       "\n",
       "    .dataframe tbody tr th {\n",
       "        vertical-align: top;\n",
       "    }\n",
       "\n",
       "    .dataframe thead th {\n",
       "        text-align: right;\n",
       "    }\n",
       "</style>\n",
       "<table border=\"1\" class=\"dataframe\">\n",
       "  <thead>\n",
       "    <tr style=\"text-align: right;\">\n",
       "      <th></th>\n",
       "      <th>R-Squared</th>\n",
       "      <th>MSE</th>\n",
       "    </tr>\n",
       "    <tr>\n",
       "      <th>Model Name</th>\n",
       "      <th></th>\n",
       "      <th></th>\n",
       "    </tr>\n",
       "  </thead>\n",
       "  <tbody>\n",
       "    <tr>\n",
       "      <th>Linear Regression</th>\n",
       "      <td>0.877118</td>\n",
       "      <td>17.752488</td>\n",
       "    </tr>\n",
       "    <tr>\n",
       "      <th>Random Forest Regression</th>\n",
       "      <td>0.999429</td>\n",
       "      <td>0.082524</td>\n",
       "    </tr>\n",
       "    <tr>\n",
       "      <th>Gradient Boosting Regression</th>\n",
       "      <td>0.998370</td>\n",
       "      <td>0.235429</td>\n",
       "    </tr>\n",
       "    <tr>\n",
       "      <th>Support Vector Regression</th>\n",
       "      <td>0.692727</td>\n",
       "      <td>44.390868</td>\n",
       "    </tr>\n",
       "  </tbody>\n",
       "</table>\n",
       "</div>"
      ],
      "text/plain": [
       "                              R-Squared        MSE\n",
       "Model Name                                        \n",
       "Linear Regression              0.877118  17.752488\n",
       "Random Forest Regression       0.999429   0.082524\n",
       "Gradient Boosting Regression   0.998370   0.235429\n",
       "Support Vector Regression      0.692727  44.390868"
      ]
     },
     "execution_count": 74,
     "metadata": {},
     "output_type": "execute_result"
    }
   ],
   "source": [
    "print('\\nPerformance Measures of implemented Machine Learning Models when only Quantitative predictors (input variables) are used:')\n",
    "performance_results1 = pd.DataFrame()\n",
    "performance_results1['Model Name'] = ['Linear Regression','Random Forest Regression','Gradient Boosting Regression',\n",
    "                                     'Support Vector Regression']\n",
    "performance_results1['R-Squared'] = [R2,R2_rf,R2_GB,R2_SR]\n",
    "performance_results1['MSE'] = [MSE1,MSE_rf,MSE_GB,MSE_SR]\n",
    "\n",
    "performance_results1.set_index('Model Name', inplace=True)\n",
    "performance_results1"
   ]
  },
  {
   "cell_type": "code",
   "execution_count": 75,
   "metadata": {
    "scrolled": true
   },
   "outputs": [
    {
     "name": "stdout",
     "output_type": "stream",
     "text": [
      "\n",
      "Performance Measures of implemented Machine Learning Models when both Quantitative (Unit price, Quantity) & Categorical predictors (Gender,Customer Type) (input variables) are used:\n"
     ]
    },
    {
     "data": {
      "text/html": [
       "<div>\n",
       "<style scoped>\n",
       "    .dataframe tbody tr th:only-of-type {\n",
       "        vertical-align: middle;\n",
       "    }\n",
       "\n",
       "    .dataframe tbody tr th {\n",
       "        vertical-align: top;\n",
       "    }\n",
       "\n",
       "    .dataframe thead th {\n",
       "        text-align: right;\n",
       "    }\n",
       "</style>\n",
       "<table border=\"1\" class=\"dataframe\">\n",
       "  <thead>\n",
       "    <tr style=\"text-align: right;\">\n",
       "      <th></th>\n",
       "      <th>R-Squared</th>\n",
       "      <th>MSE</th>\n",
       "    </tr>\n",
       "    <tr>\n",
       "      <th>Model Name</th>\n",
       "      <th></th>\n",
       "      <th></th>\n",
       "    </tr>\n",
       "  </thead>\n",
       "  <tbody>\n",
       "    <tr>\n",
       "      <th>Linear Regression</th>\n",
       "      <td>-0.001097</td>\n",
       "      <td>0.221343</td>\n",
       "    </tr>\n",
       "    <tr>\n",
       "      <th>Random Forest Regression</th>\n",
       "      <td>-0.227742</td>\n",
       "      <td>0.271454</td>\n",
       "    </tr>\n",
       "    <tr>\n",
       "      <th>Gradient Boosting Regression</th>\n",
       "      <td>-0.080323</td>\n",
       "      <td>0.238859</td>\n",
       "    </tr>\n",
       "    <tr>\n",
       "      <th>Support Vector Regression</th>\n",
       "      <td>-0.235234</td>\n",
       "      <td>0.273110</td>\n",
       "    </tr>\n",
       "  </tbody>\n",
       "</table>\n",
       "</div>"
      ],
      "text/plain": [
       "                              R-Squared       MSE\n",
       "Model Name                                       \n",
       "Linear Regression             -0.001097  0.221343\n",
       "Random Forest Regression      -0.227742  0.271454\n",
       "Gradient Boosting Regression  -0.080323  0.238859\n",
       "Support Vector Regression     -0.235234  0.273110"
      ]
     },
     "execution_count": 75,
     "metadata": {},
     "output_type": "execute_result"
    }
   ],
   "source": [
    "print('\\nPerformance Measures of implemented Machine Learning Models when both Quantitative (Unit price, Quantity) & Categorical predictors (Gender,Customer Type) (input variables) are used:')\n",
    "performance_results2 = pd.DataFrame()\n",
    "performance_results2['Model Name'] = ['Linear Regression','Random Forest Regression','Gradient Boosting Regression',\n",
    "                                     'Support Vector Regression']\n",
    "performance_results2['R-Squared'] = [R2new,R2new_rf,R2new_GB,R2new_SR]\n",
    "performance_results2['MSE'] = [MSE1new,MSEnew_rf,MSEnew_GB,MSEnew_SR]\n",
    "\n",
    "performance_results2.set_index('Model Name', inplace=True)\n",
    "performance_results2"
   ]
  },
  {
   "cell_type": "code",
   "execution_count": 76,
   "metadata": {},
   "outputs": [
    {
     "name": "stdout",
     "output_type": "stream",
     "text": [
      "\n",
      "Performance Measures of implemented Machine Learning Models when almost all predictors (Quantitative (Unit Price & Quantity) & Categorical variables (Gender, Customer Type, City, Payment, Product Line) are used:\n"
     ]
    },
    {
     "data": {
      "text/html": [
       "<div>\n",
       "<style scoped>\n",
       "    .dataframe tbody tr th:only-of-type {\n",
       "        vertical-align: middle;\n",
       "    }\n",
       "\n",
       "    .dataframe tbody tr th {\n",
       "        vertical-align: top;\n",
       "    }\n",
       "\n",
       "    .dataframe thead th {\n",
       "        text-align: right;\n",
       "    }\n",
       "</style>\n",
       "<table border=\"1\" class=\"dataframe\">\n",
       "  <thead>\n",
       "    <tr style=\"text-align: right;\">\n",
       "      <th></th>\n",
       "      <th>R-Squared</th>\n",
       "      <th>MSE</th>\n",
       "    </tr>\n",
       "    <tr>\n",
       "      <th>Model Name</th>\n",
       "      <th></th>\n",
       "      <th></th>\n",
       "    </tr>\n",
       "  </thead>\n",
       "  <tbody>\n",
       "    <tr>\n",
       "      <th>Linear Regression</th>\n",
       "      <td>0.881697</td>\n",
       "      <td>16.083139</td>\n",
       "    </tr>\n",
       "    <tr>\n",
       "      <th>Random Forest Regression</th>\n",
       "      <td>0.999095</td>\n",
       "      <td>0.123010</td>\n",
       "    </tr>\n",
       "    <tr>\n",
       "      <th>Gradient Boosting Regression</th>\n",
       "      <td>0.998349</td>\n",
       "      <td>0.224443</td>\n",
       "    </tr>\n",
       "    <tr>\n",
       "      <th>Support Vector Regression</th>\n",
       "      <td>0.783599</td>\n",
       "      <td>29.419473</td>\n",
       "    </tr>\n",
       "  </tbody>\n",
       "</table>\n",
       "</div>"
      ],
      "text/plain": [
       "                              R-Squared        MSE\n",
       "Model Name                                        \n",
       "Linear Regression              0.881697  16.083139\n",
       "Random Forest Regression       0.999095   0.123010\n",
       "Gradient Boosting Regression   0.998349   0.224443\n",
       "Support Vector Regression      0.783599  29.419473"
      ]
     },
     "execution_count": 76,
     "metadata": {},
     "output_type": "execute_result"
    }
   ],
   "source": [
    "print('\\nPerformance Measures of implemented Machine Learning Models when almost all predictors (Quantitative (Unit Price & Quantity) & Categorical variables (Gender, Customer Type, City, Payment, Product Line) are used:')\n",
    "performance_results3 = pd.DataFrame()\n",
    "performance_results3['Model Name'] = ['Linear Regression','Random Forest Regression','Gradient Boosting Regression',\n",
    "                                     'Support Vector Regression']\n",
    "performance_results3['R-Squared'] = [R2LRnew,R2new_rf2,R2new_GB2,R2new_SR2]\n",
    "performance_results3['MSE'] = [MSELRnew,MSEnew_rf2,MSEnew_GB2,MSEnew_SR2]\n",
    "\n",
    "performance_results3.set_index('Model Name', inplace=True)\n",
    "performance_results3"
   ]
  },
  {
   "cell_type": "markdown",
   "metadata": {},
   "source": [
    "Based on R2 square and MSE now we observe that Gradient Boosting Regressor and Random Forest Regressor perform well in our machine learning models."
   ]
  },
  {
   "cell_type": "markdown",
   "metadata": {},
   "source": [
    "### Part 2: Time Series Forecasting"
   ]
  },
  {
   "cell_type": "markdown",
   "metadata": {},
   "source": [
    "We see that There are multiple transactions done a particular date in all the three branches of supermarket maybe at different times. Thus we would take mean value of gross income generated on a day across all three branches of supermarket."
   ]
  },
  {
   "cell_type": "code",
   "execution_count": 77,
   "metadata": {},
   "outputs": [
    {
     "data": {
      "text/plain": [
       "Date\n",
       "2019-01-01    18.830083\n",
       "2019-01-02    11.580375\n",
       "2019-01-03    12.369813\n",
       "2019-01-04    12.886417\n",
       "2019-01-05    14.034458\n",
       "                ...    \n",
       "2019-03-26     7.188692\n",
       "2019-03-27    13.822950\n",
       "2019-03-28    10.616200\n",
       "2019-03-29    23.947875\n",
       "2019-03-30    19.424500\n",
       "Name: gross income, Length: 89, dtype: float64"
      ]
     },
     "execution_count": 77,
     "metadata": {},
     "output_type": "execute_result"
    }
   ],
   "source": [
    "Time_Series"
   ]
  },
  {
   "cell_type": "code",
   "execution_count": 78,
   "metadata": {},
   "outputs": [
    {
     "name": "stdout",
     "output_type": "stream",
     "text": [
      "ADF Statistic: -8.638404825573984\n",
      "p-value: 5.5101708471067446e-14\n",
      "Critical Values:\n",
      "\t1%: -3.5078527246648834\n",
      "\t5%: -2.895382030636155\n",
      "\t10%: -2.584823877658872\n"
     ]
    }
   ],
   "source": [
    "result = adfuller(Time_Series)\n",
    "print('ADF Statistic: {}'.format(result[0]))\n",
    "print('p-value: {}'.format(result[1]))\n",
    "print('Critical Values:')\n",
    "for key, value in result[4].items():\n",
    "    print('\\t{}: {}'.format(key, value))"
   ]
  },
  {
   "cell_type": "markdown",
   "metadata": {},
   "source": [
    "In the above case, p value is (less than <0.5) which is very low, therefore we reject the null hypothesis and can deduce that our data is stationary"
   ]
  },
  {
   "cell_type": "code",
   "execution_count": 79,
   "metadata": {},
   "outputs": [],
   "source": [
    "# split into train and test sets\n",
    "X_time = Time_Series.values\n",
    "size = int(len(X_time) * 0.70)\n",
    "train, test = X_time[0:size], X_time[size:len(X_time)]\n",
    "train_set = [x for x in train]"
   ]
  },
  {
   "cell_type": "code",
   "execution_count": 80,
   "metadata": {},
   "outputs": [
    {
     "data": {
      "text/plain": [
       "(62,)"
      ]
     },
     "execution_count": 80,
     "metadata": {},
     "output_type": "execute_result"
    }
   ],
   "source": [
    "train.shape"
   ]
  },
  {
   "cell_type": "code",
   "execution_count": 81,
   "metadata": {},
   "outputs": [
    {
     "data": {
      "text/plain": [
       "(27,)"
      ]
     },
     "execution_count": 81,
     "metadata": {},
     "output_type": "execute_result"
    }
   ],
   "source": [
    "test.shape"
   ]
  },
  {
   "cell_type": "code",
   "execution_count": 82,
   "metadata": {},
   "outputs": [
    {
     "name": "stdout",
     "output_type": "stream",
     "text": [
      "predicted=15.685799, expected=15.454125\n",
      "predicted=15.760452, expected=17.453441\n",
      "predicted=16.303924, expected=13.387864\n",
      "predicted=15.742964, expected=7.609833\n",
      "predicted=15.617840, expected=13.529818\n",
      "predicted=15.619745, expected=22.244187\n",
      "predicted=13.804509, expected=12.552500\n",
      "predicted=11.022123, expected=12.819273\n",
      "predicted=15.233815, expected=14.593458\n",
      "predicted=15.445963, expected=9.826700\n",
      "predicted=14.124444, expected=19.086333\n",
      "predicted=15.795360, expected=11.676250\n",
      "predicted=11.650863, expected=16.690333\n",
      "predicted=14.656712, expected=15.684833\n",
      "predicted=13.850193, expected=8.794786\n",
      "predicted=14.616541, expected=17.084500\n",
      "predicted=15.748228, expected=17.327633\n",
      "predicted=13.180078, expected=14.900917\n",
      "predicted=14.263340, expected=15.138800\n",
      "predicted=14.741243, expected=17.727455\n",
      "predicted=15.755574, expected=15.053955\n",
      "predicted=15.790721, expected=12.026278\n",
      "predicted=16.025823, expected=7.188692\n",
      "predicted=15.103555, expected=13.822950\n",
      "predicted=15.017223, expected=10.616200\n",
      "predicted=11.210335, expected=23.947875\n",
      "predicted=12.622306, expected=19.424500\n"
     ]
    }
   ],
   "source": [
    "# fit model\n",
    "predictions = list()\n",
    "# walk-forward validation\n",
    "for t in range(len(test)):\n",
    "    model2 = ARIMA(train_set, order=(5,1,0))\n",
    "    model_fit = model2.fit()\n",
    "    output = model_fit.forecast()\n",
    "    yhat = output[0]\n",
    "    predictions.append(yhat)\n",
    "    obs = test[t]\n",
    "    train_set.append(obs)\n",
    "    print('predicted=%f, expected=%f' % (yhat, obs))"
   ]
  },
  {
   "cell_type": "code",
   "execution_count": 83,
   "metadata": {},
   "outputs": [
    {
     "name": "stdout",
     "output_type": "stream",
     "text": [
      "Test RMSE: 4.712897624252763\n"
     ]
    },
    {
     "data": {
      "image/png": "[encoded data removed]",
      "text/plain": [
       "<Figure size 432x288 with 1 Axes>"
      ]
     },
     "metadata": {
      "needs_background": "light"
     },
     "output_type": "display_data"
    }
   ],
   "source": [
    "# evaluate forecasts\n",
    "rmse = sqrt(mean_squared_error(test, predictions))\n",
    "print(\"Test RMSE: {}\".format(rmse))\n",
    "# plot forecasts against actual outcomes\n",
    "plt.plot(test,label='Observations')\n",
    "plt.plot(predictions, color='red',label='Predictions')\n",
    "plt.legend(loc='best')\n",
    "plt.show()"
   ]
  },
  {
   "cell_type": "markdown",
   "metadata": {},
   "source": [
    "<u> <font color =\"purple\"><h3>Conclusion:</h3></font></u> <br>"
   ]
  },
  {
   "cell_type": "markdown",
   "metadata": {},
   "source": [
    "After trying and testing 4 different algorithms for regression analysis of gross income, the best score on the leaderboard is achieved by Random forest algorithm using only quantitative predictors. The Random Forest algorithm is a tree based bootstrapping algorithm wherein a certain no. of weak learners (decision trees) is combined to make a powerful prediction model. For time series forecasting, ARIMA model was implemented on the data set. The performance of the ARIMA model can be considered to be good since it gave a very low RMSE (Root Mean Square Error) value."
   ]
  }
 ],
 "metadata": {
  "kernelspec": {
   "display_name": "Python 3",
   "language": "python",
   "name": "python3"
  },
  "language_info": {
   "codemirror_mode": {
    "name": "ipython",
    "version": 3
   },
   "file_extension": ".py",
   "mimetype": "text/x-python",
   "name": "python",
   "nbconvert_exporter": "python",
   "pygments_lexer": "ipython3",
   "version": "3.8.5"
  }
 },
 "nbformat": 4,
 "nbformat_minor": 4
}
